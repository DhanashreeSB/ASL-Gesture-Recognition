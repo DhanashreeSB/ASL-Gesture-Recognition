{
 "cells": [
  {
   "cell_type": "code",
   "execution_count": 1,
   "metadata": {},
   "outputs": [
    {
     "data": {
      "text/plain": [
       "'3.5.2 (default, Oct  8 2019, 13:06:37) \\n[GCC 5.4.0 20160609]'"
      ]
     },
     "execution_count": 1,
     "metadata": {},
     "output_type": "execute_result"
    }
   ],
   "source": [
    "import sys\n",
    "sys.version"
   ]
  },
  {
   "cell_type": "code",
   "execution_count": 2,
   "metadata": {},
   "outputs": [
    {
     "name": "stderr",
     "output_type": "stream",
     "text": [
      "/home/dhanashree/MyFolder/Dev/video_classification/lib/python3.5/site-packages/tensorflow/python/framework/dtypes.py:526: FutureWarning: Passing (type, 1) or '1type' as a synonym of type is deprecated; in a future version of numpy, it will be understood as (type, (1,)) / '(1,)type'.\n",
      "  _np_qint8 = np.dtype([(\"qint8\", np.int8, 1)])\n",
      "/home/dhanashree/MyFolder/Dev/video_classification/lib/python3.5/site-packages/tensorflow/python/framework/dtypes.py:527: FutureWarning: Passing (type, 1) or '1type' as a synonym of type is deprecated; in a future version of numpy, it will be understood as (type, (1,)) / '(1,)type'.\n",
      "  _np_quint8 = np.dtype([(\"quint8\", np.uint8, 1)])\n",
      "/home/dhanashree/MyFolder/Dev/video_classification/lib/python3.5/site-packages/tensorflow/python/framework/dtypes.py:528: FutureWarning: Passing (type, 1) or '1type' as a synonym of type is deprecated; in a future version of numpy, it will be understood as (type, (1,)) / '(1,)type'.\n",
      "  _np_qint16 = np.dtype([(\"qint16\", np.int16, 1)])\n",
      "/home/dhanashree/MyFolder/Dev/video_classification/lib/python3.5/site-packages/tensorflow/python/framework/dtypes.py:529: FutureWarning: Passing (type, 1) or '1type' as a synonym of type is deprecated; in a future version of numpy, it will be understood as (type, (1,)) / '(1,)type'.\n",
      "  _np_quint16 = np.dtype([(\"quint16\", np.uint16, 1)])\n",
      "/home/dhanashree/MyFolder/Dev/video_classification/lib/python3.5/site-packages/tensorflow/python/framework/dtypes.py:530: FutureWarning: Passing (type, 1) or '1type' as a synonym of type is deprecated; in a future version of numpy, it will be understood as (type, (1,)) / '(1,)type'.\n",
      "  _np_qint32 = np.dtype([(\"qint32\", np.int32, 1)])\n",
      "/home/dhanashree/MyFolder/Dev/video_classification/lib/python3.5/site-packages/tensorflow/python/framework/dtypes.py:535: FutureWarning: Passing (type, 1) or '1type' as a synonym of type is deprecated; in a future version of numpy, it will be understood as (type, (1,)) / '(1,)type'.\n",
      "  np_resource = np.dtype([(\"resource\", np.ubyte, 1)])\n",
      "Using TensorFlow backend.\n"
     ]
    }
   ],
   "source": [
    "import numpy as np\n",
    "import os\n",
    "os.environ['KERAS_BACKEND'] = 'tensorflow'\n",
    "import tensorflow as tf\n",
    "# from tensorflow.compat.v1 import InteractiveSession\n",
    "# config = tf.compat.v1.ConfigProto()\n",
    "# config.gpu_options.allow_growth = True\n",
    "# sess = tf.compat.v1.Session(config=config)\n",
    "import keras\n",
    "from keras import backend as K\n",
    "from keras.models import Sequential\n",
    "from keras.layers import Activation\n",
    "from keras.layers import Dense, Flatten\n",
    "from keras.optimizers import Adam\n",
    "from keras.metrics import categorical_crossentropy\n",
    "from keras.preprocessing.image import ImageDataGenerator\n",
    "from keras.layers.normalization import BatchNormalization\n",
    "from keras.layers.convolutional import *\n",
    "from matplotlib import pyplot as plt\n",
    "from sklearn.metrics import confusion_matrix\n",
    "import itertools\n",
    "import matplotlib.pyplot as plt\n",
    "%matplotlib inline"
   ]
  },
  {
   "cell_type": "code",
   "execution_count": 3,
   "metadata": {},
   "outputs": [],
   "source": [
    "from tensorflow.compat.v1 import InteractiveSession\n",
    "config = tf.compat.v1.ConfigProto()\n",
    "config.gpu_options.allow_growth = True\n",
    "sess = tf.compat.v1.Session(config=config)"
   ]
  },
  {
   "cell_type": "code",
   "execution_count": 4,
   "metadata": {},
   "outputs": [
    {
     "data": {
      "text/plain": [
       "'2.3.1'"
      ]
     },
     "execution_count": 4,
     "metadata": {},
     "output_type": "execute_result"
    }
   ],
   "source": [
    "keras.__version__"
   ]
  },
  {
   "cell_type": "code",
   "execution_count": 5,
   "metadata": {},
   "outputs": [
    {
     "data": {
      "text/plain": [
       "'1.13.1'"
      ]
     },
     "execution_count": 5,
     "metadata": {},
     "output_type": "execute_result"
    }
   ],
   "source": [
    "# Just disables the warning, doesn't enable AVX/FMA\n",
    "import tensorflow as tf\n",
    "import os\n",
    "tf.__version__\n",
    "#os.environ['TF_CPP_MIN_LOG_LEVEL'] = '2'"
   ]
  },
  {
   "cell_type": "code",
   "execution_count": 6,
   "metadata": {},
   "outputs": [
    {
     "data": {
      "text/plain": [
       "'/home/dhanashree/MyFolder/Dev/atoz/digits_training'"
      ]
     },
     "execution_count": 6,
     "metadata": {},
     "output_type": "execute_result"
    }
   ],
   "source": [
    "%pwd"
   ]
  },
  {
   "cell_type": "code",
   "execution_count": 7,
   "metadata": {},
   "outputs": [],
   "source": [
    "# %%bash\n",
    "# cd Sign-Language-Digits-Dataset/train/\n",
    "# for i in {9..9};\n",
    "# do\n",
    "#     #d=`expr $i + 65`\n",
    "#     #c=$(printf \\\\$(printf '%03o' $d))\n",
    "#     # c=\"space\"\n",
    "#     a=$(find $i/ -type f | shuf -n 30)\n",
    "#     mv $a ../valid/$i/\n",
    "#     b=$(find $i/ -type f | shuf -n 5)\n",
    "#     mv $b ../test/$i/\n",
    "# done"
   ]
  },
  {
   "cell_type": "code",
   "execution_count": 8,
   "metadata": {},
   "outputs": [],
   "source": [
    "train_path = 'Sign-Language-Digits-Dataset1/train'\n",
    "valid_path = 'Sign-Language-Digits-Dataset1/valid'\n",
    "test_path = 'Sign-Language-Digits-Dataset1/test'"
   ]
  },
  {
   "cell_type": "code",
   "execution_count": 9,
   "metadata": {},
   "outputs": [
    {
     "name": "stdout",
     "output_type": "stream",
     "text": [
      "Found 2050 images belonging to 10 classes.\n",
      "Found 300 images belonging to 10 classes.\n",
      "Found 200 images belonging to 10 classes.\n"
     ]
    }
   ],
   "source": [
    "train_batches = ImageDataGenerator().flow_from_directory(train_path, target_size=(224,224), classes=['0','1','2','3','4','5','6','7','8','9'], batch_size=10)\n",
    "valid_batches = ImageDataGenerator().flow_from_directory(valid_path, target_size=(224,224), classes=['0','1','2','3','4','5','6','7','8','9'], batch_size=10)\n",
    "test_batches = ImageDataGenerator().flow_from_directory(test_path, target_size=(224,224), classes=['0','1','2','3','4','5','6','7','8','9'], batch_size=10, shuffle=False)"
   ]
  },
  {
   "cell_type": "code",
   "execution_count": 10,
   "metadata": {},
   "outputs": [],
   "source": [
    "#plots images with labels within jupyter notebook\n",
    "def plots(ims, figsize=(12,6), rows=1, interp=False, titles=None):\n",
    "    if type(ims[0]) is np.ndarray:\n",
    "        ims = np.array(ims).astype(np.uint8)\n",
    "        if (ims.shape[-1] != 3):\n",
    "            ims = ims.transpose((0,2,3,1))\n",
    "    f = plt.figure(figsize=figsize)\n",
    "    cols = len(ims)//rows if len(ims) % 2 == 0 else len(ims)//rows + 1\n",
    "    for i in range(len(ims)):\n",
    "        sp = f.add_subplot(rows, cols, i+1)\n",
    "        sp.axis('off')\n",
    "        if titles is not None:\n",
    "            sp.set_title(titles[i], fontsize=16)\n",
    "        plt.imshow(ims[i], interpolation=None if interp else 'none')"
   ]
  },
  {
   "cell_type": "code",
   "execution_count": 11,
   "metadata": {},
   "outputs": [],
   "source": [
    "(imgs, labels) = next(train_batches)"
   ]
  },
  {
   "cell_type": "code",
   "execution_count": 12,
   "metadata": {},
   "outputs": [
    {
     "name": "stderr",
     "output_type": "stream",
     "text": [
      "/home/dhanashree/MyFolder/Dev/video_classification/lib/python3.5/site-packages/matplotlib/text.py:1191: FutureWarning: elementwise comparison failed; returning scalar instead, but in the future will perform elementwise comparison\n",
      "  if s != self._text:\n"
     ]
    },
    {
     "data": {
      "image/png": "[encoded data removed]",
      "text/plain": [
       "<Figure size 864x432 with 10 Axes>"
      ]
     },
     "metadata": {
      "needs_background": "light"
     },
     "output_type": "display_data"
    }
   ],
   "source": [
    "plots(imgs, titles=labels)"
   ]
  },
  {
   "cell_type": "code",
   "execution_count": 17,
   "metadata": {},
   "outputs": [],
   "source": [
    "# (imgs, lbls) = next(test_batches)"
   ]
  },
  {
   "cell_type": "code",
   "execution_count": 18,
   "metadata": {},
   "outputs": [],
   "source": [
    "# plt.imshow(imgs[0])"
   ]
  },
  {
   "cell_type": "markdown",
   "metadata": {},
   "source": [
    "## Build Fine-tuned VGG16 model"
   ]
  },
  {
   "cell_type": "code",
   "execution_count": 15,
   "metadata": {},
   "outputs": [
    {
     "name": "stdout",
     "output_type": "stream",
     "text": [
      "WARNING:tensorflow:From /home/renupaturkar1234/alphabets/lib/python3.5/site-packages/tensorflow/python/ops/resource_variable_ops.py:435: colocate_with (from tensorflow.python.framework.ops) is deprecated and will be removed in a future version.\n",
      "Instructions for updating:\n",
      "Colocations handled automatically by placer.\n"
     ]
    }
   ],
   "source": [
    "vgg16_model = keras.applications.vgg16.VGG16()"
   ]
  },
  {
   "cell_type": "code",
   "execution_count": 16,
   "metadata": {
    "scrolled": true
   },
   "outputs": [
    {
     "name": "stdout",
     "output_type": "stream",
     "text": [
      "Model: \"vgg16\"\n",
      "_________________________________________________________________\n",
      "Layer (type)                 Output Shape              Param #   \n",
      "=================================================================\n",
      "input_1 (InputLayer)         (None, 224, 224, 3)       0         \n",
      "_________________________________________________________________\n",
      "block1_conv1 (Conv2D)        (None, 224, 224, 64)      1792      \n",
      "_________________________________________________________________\n",
      "block1_conv2 (Conv2D)        (None, 224, 224, 64)      36928     \n",
      "_________________________________________________________________\n",
      "block1_pool (MaxPooling2D)   (None, 112, 112, 64)      0         \n",
      "_________________________________________________________________\n",
      "block2_conv1 (Conv2D)        (None, 112, 112, 128)     73856     \n",
      "_________________________________________________________________\n",
      "block2_conv2 (Conv2D)        (None, 112, 112, 128)     147584    \n",
      "_________________________________________________________________\n",
      "block2_pool (MaxPooling2D)   (None, 56, 56, 128)       0         \n",
      "_________________________________________________________________\n",
      "block3_conv1 (Conv2D)        (None, 56, 56, 256)       295168    \n",
      "_________________________________________________________________\n",
      "block3_conv2 (Conv2D)        (None, 56, 56, 256)       590080    \n",
      "_________________________________________________________________\n",
      "block3_conv3 (Conv2D)        (None, 56, 56, 256)       590080    \n",
      "_________________________________________________________________\n",
      "block3_pool (MaxPooling2D)   (None, 28, 28, 256)       0         \n",
      "_________________________________________________________________\n",
      "block4_conv1 (Conv2D)        (None, 28, 28, 512)       1180160   \n",
      "_________________________________________________________________\n",
      "block4_conv2 (Conv2D)        (None, 28, 28, 512)       2359808   \n",
      "_________________________________________________________________\n",
      "block4_conv3 (Conv2D)        (None, 28, 28, 512)       2359808   \n",
      "_________________________________________________________________\n",
      "block4_pool (MaxPooling2D)   (None, 14, 14, 512)       0         \n",
      "_________________________________________________________________\n",
      "block5_conv1 (Conv2D)        (None, 14, 14, 512)       2359808   \n",
      "_________________________________________________________________\n",
      "block5_conv2 (Conv2D)        (None, 14, 14, 512)       2359808   \n",
      "_________________________________________________________________\n",
      "block5_conv3 (Conv2D)        (None, 14, 14, 512)       2359808   \n",
      "_________________________________________________________________\n",
      "block5_pool (MaxPooling2D)   (None, 7, 7, 512)         0         \n",
      "_________________________________________________________________\n",
      "flatten (Flatten)            (None, 25088)             0         \n",
      "_________________________________________________________________\n",
      "fc1 (Dense)                  (None, 4096)              102764544 \n",
      "_________________________________________________________________\n",
      "fc2 (Dense)                  (None, 4096)              16781312  \n",
      "_________________________________________________________________\n",
      "predictions (Dense)          (None, 1000)              4097000   \n",
      "=================================================================\n",
      "Total params: 138,357,544\n",
      "Trainable params: 138,357,544\n",
      "Non-trainable params: 0\n",
      "_________________________________________________________________\n"
     ]
    }
   ],
   "source": [
    "vgg16_model.summary()"
   ]
  },
  {
   "cell_type": "code",
   "execution_count": 17,
   "metadata": {},
   "outputs": [
    {
     "data": {
      "text/plain": [
       "keras.engine.training.Model"
      ]
     },
     "execution_count": 17,
     "metadata": {},
     "output_type": "execute_result"
    }
   ],
   "source": [
    "type(vgg16_model)"
   ]
  },
  {
   "cell_type": "code",
   "execution_count": 18,
   "metadata": {},
   "outputs": [
    {
     "data": {
      "text/plain": [
       "<keras.layers.core.Dense at 0x7fdfec544978>"
      ]
     },
     "execution_count": 18,
     "metadata": {},
     "output_type": "execute_result"
    }
   ],
   "source": [
    "vgg16_model.layers.pop()"
   ]
  },
  {
   "cell_type": "code",
   "execution_count": 19,
   "metadata": {},
   "outputs": [],
   "source": [
    "# vgg16_model.outputs = [vgg16_model.layers[-6].output]\n",
    "vgg16_model.layers[-1].outbound_nodes = []\n",
    "#vgg16_model.add(Dense(26, activation='softmax'))"
   ]
  },
  {
   "cell_type": "markdown",
   "metadata": {},
   "source": [
    "### converted keras.engine.training.Model type to Sequential"
   ]
  },
  {
   "cell_type": "code",
   "execution_count": 20,
   "metadata": {},
   "outputs": [],
   "source": [
    "model = Sequential()\n",
    "for layer in vgg16_model.layers:\n",
    "    model.add(layer)"
   ]
  },
  {
   "cell_type": "code",
   "execution_count": 21,
   "metadata": {
    "scrolled": true
   },
   "outputs": [
    {
     "name": "stdout",
     "output_type": "stream",
     "text": [
      "Model: \"sequential_1\"\n",
      "_________________________________________________________________\n",
      "Layer (type)                 Output Shape              Param #   \n",
      "=================================================================\n",
      "block1_conv1 (Conv2D)        (None, 224, 224, 64)      1792      \n",
      "_________________________________________________________________\n",
      "block1_conv2 (Conv2D)        (None, 224, 224, 64)      36928     \n",
      "_________________________________________________________________\n",
      "block1_pool (MaxPooling2D)   (None, 112, 112, 64)      0         \n",
      "_________________________________________________________________\n",
      "block2_conv1 (Conv2D)        (None, 112, 112, 128)     73856     \n",
      "_________________________________________________________________\n",
      "block2_conv2 (Conv2D)        (None, 112, 112, 128)     147584    \n",
      "_________________________________________________________________\n",
      "block2_pool (MaxPooling2D)   (None, 56, 56, 128)       0         \n",
      "_________________________________________________________________\n",
      "block3_conv1 (Conv2D)        (None, 56, 56, 256)       295168    \n",
      "_________________________________________________________________\n",
      "block3_conv2 (Conv2D)        (None, 56, 56, 256)       590080    \n",
      "_________________________________________________________________\n",
      "block3_conv3 (Conv2D)        (None, 56, 56, 256)       590080    \n",
      "_________________________________________________________________\n",
      "block3_pool (MaxPooling2D)   (None, 28, 28, 256)       0         \n",
      "_________________________________________________________________\n",
      "block4_conv1 (Conv2D)        (None, 28, 28, 512)       1180160   \n",
      "_________________________________________________________________\n",
      "block4_conv2 (Conv2D)        (None, 28, 28, 512)       2359808   \n",
      "_________________________________________________________________\n",
      "block4_conv3 (Conv2D)        (None, 28, 28, 512)       2359808   \n",
      "_________________________________________________________________\n",
      "block4_pool (MaxPooling2D)   (None, 14, 14, 512)       0         \n",
      "_________________________________________________________________\n",
      "block5_conv1 (Conv2D)        (None, 14, 14, 512)       2359808   \n",
      "_________________________________________________________________\n",
      "block5_conv2 (Conv2D)        (None, 14, 14, 512)       2359808   \n",
      "_________________________________________________________________\n",
      "block5_conv3 (Conv2D)        (None, 14, 14, 512)       2359808   \n",
      "_________________________________________________________________\n",
      "block5_pool (MaxPooling2D)   (None, 7, 7, 512)         0         \n",
      "_________________________________________________________________\n",
      "flatten (Flatten)            (None, 25088)             0         \n",
      "_________________________________________________________________\n",
      "fc1 (Dense)                  (None, 4096)              102764544 \n",
      "_________________________________________________________________\n",
      "fc2 (Dense)                  (None, 4096)              16781312  \n",
      "=================================================================\n",
      "Total params: 134,260,544\n",
      "Trainable params: 134,260,544\n",
      "Non-trainable params: 0\n",
      "_________________________________________________________________\n"
     ]
    }
   ],
   "source": [
    "model.summary()"
   ]
  },
  {
   "cell_type": "code",
   "execution_count": 22,
   "metadata": {},
   "outputs": [
    {
     "data": {
      "text/plain": [
       "keras.engine.sequential.Sequential"
      ]
     },
     "execution_count": 22,
     "metadata": {},
     "output_type": "execute_result"
    }
   ],
   "source": [
    "type(model)"
   ]
  },
  {
   "cell_type": "markdown",
   "metadata": {},
   "source": [
    "### keep all the weights of trained model as it is...dont change it"
   ]
  },
  {
   "cell_type": "code",
   "execution_count": 23,
   "metadata": {},
   "outputs": [],
   "source": [
    "for layer in model.layers[:-18]:\n",
    "    layer.trainable = False"
   ]
  },
  {
   "cell_type": "code",
   "execution_count": 24,
   "metadata": {},
   "outputs": [],
   "source": [
    "model.add(Dense(10, activation='softmax'))"
   ]
  },
  {
   "cell_type": "code",
   "execution_count": 25,
   "metadata": {
    "scrolled": true
   },
   "outputs": [
    {
     "name": "stdout",
     "output_type": "stream",
     "text": [
      "Model: \"sequential_1\"\n",
      "_________________________________________________________________\n",
      "Layer (type)                 Output Shape              Param #   \n",
      "=================================================================\n",
      "block1_conv1 (Conv2D)        (None, 224, 224, 64)      1792      \n",
      "_________________________________________________________________\n",
      "block1_conv2 (Conv2D)        (None, 224, 224, 64)      36928     \n",
      "_________________________________________________________________\n",
      "block1_pool (MaxPooling2D)   (None, 112, 112, 64)      0         \n",
      "_________________________________________________________________\n",
      "block2_conv1 (Conv2D)        (None, 112, 112, 128)     73856     \n",
      "_________________________________________________________________\n",
      "block2_conv2 (Conv2D)        (None, 112, 112, 128)     147584    \n",
      "_________________________________________________________________\n",
      "block2_pool (MaxPooling2D)   (None, 56, 56, 128)       0         \n",
      "_________________________________________________________________\n",
      "block3_conv1 (Conv2D)        (None, 56, 56, 256)       295168    \n",
      "_________________________________________________________________\n",
      "block3_conv2 (Conv2D)        (None, 56, 56, 256)       590080    \n",
      "_________________________________________________________________\n",
      "block3_conv3 (Conv2D)        (None, 56, 56, 256)       590080    \n",
      "_________________________________________________________________\n",
      "block3_pool (MaxPooling2D)   (None, 28, 28, 256)       0         \n",
      "_________________________________________________________________\n",
      "block4_conv1 (Conv2D)        (None, 28, 28, 512)       1180160   \n",
      "_________________________________________________________________\n",
      "block4_conv2 (Conv2D)        (None, 28, 28, 512)       2359808   \n",
      "_________________________________________________________________\n",
      "block4_conv3 (Conv2D)        (None, 28, 28, 512)       2359808   \n",
      "_________________________________________________________________\n",
      "block4_pool (MaxPooling2D)   (None, 14, 14, 512)       0         \n",
      "_________________________________________________________________\n",
      "block5_conv1 (Conv2D)        (None, 14, 14, 512)       2359808   \n",
      "_________________________________________________________________\n",
      "block5_conv2 (Conv2D)        (None, 14, 14, 512)       2359808   \n",
      "_________________________________________________________________\n",
      "block5_conv3 (Conv2D)        (None, 14, 14, 512)       2359808   \n",
      "_________________________________________________________________\n",
      "block5_pool (MaxPooling2D)   (None, 7, 7, 512)         0         \n",
      "_________________________________________________________________\n",
      "flatten (Flatten)            (None, 25088)             0         \n",
      "_________________________________________________________________\n",
      "fc1 (Dense)                  (None, 4096)              102764544 \n",
      "_________________________________________________________________\n",
      "fc2 (Dense)                  (None, 4096)              16781312  \n",
      "_________________________________________________________________\n",
      "dense_1 (Dense)              (None, 10)                40970     \n",
      "=================================================================\n",
      "Total params: 134,301,514\n",
      "Trainable params: 134,262,794\n",
      "Non-trainable params: 38,720\n",
      "_________________________________________________________________\n"
     ]
    }
   ],
   "source": [
    "model.summary()"
   ]
  },
  {
   "cell_type": "code",
   "execution_count": 27,
   "metadata": {},
   "outputs": [],
   "source": [
    "from keras import backend as K\n",
    "\n",
    "def recall_m(y_true, y_pred):\n",
    "    true_positives = K.sum(K.round(K.clip(y_true * y_pred, 0, 1)))\n",
    "    possible_positives = K.sum(K.round(K.clip(y_true, 0, 1)))\n",
    "    recall = true_positives / (possible_positives + K.epsilon())\n",
    "    return recall\n",
    "\n",
    "def precision_m(y_true, y_pred):\n",
    "    true_positives = K.sum(K.round(K.clip(y_true * y_pred, 0, 1)))\n",
    "    predicted_positives = K.sum(K.round(K.clip(y_pred, 0, 1)))\n",
    "    precision = true_positives / (predicted_positives + K.epsilon())\n",
    "    return precision\n",
    "\n",
    "def f1_m(y_true, y_pred):\n",
    "    precision = precision_m(y_true, y_pred)\n",
    "    recall = recall_m(y_true, y_pred)\n",
    "    return 2*((precision*recall)/(precision+recall+K.epsilon()))\n",
    "\n",
    "model.compile(Adam(lr=.0001), loss='categorical_crossentropy', metrics=['accuracy', f1_m, precision_m, recall_m])"
   ]
  },
  {
   "cell_type": "code",
   "execution_count": 27,
   "metadata": {},
   "outputs": [],
   "source": [
    "session = keras.backend.get_session()\n",
    "init = tf.global_variables_initializer()\n",
    "session.run(init)"
   ]
  },
  {
   "cell_type": "code",
   "execution_count": 28,
   "metadata": {},
   "outputs": [],
   "source": [
    "from tensorflow.python.keras.backend import set_session\n",
    "from tensorflow.python.keras.models import load_model\n",
    "\n",
    "tf_config = tf.compat.v1.ConfigProto()\n",
    "sess = tf.Session(config=tf_config)\n",
    "graph = tf.get_default_graph()"
   ]
  },
  {
   "cell_type": "code",
   "execution_count": 29,
   "metadata": {},
   "outputs": [],
   "source": [
    "from tensorflow.python.keras.backend import set_session\n",
    "from tensorflow.python.keras.models import load_model\n",
    "#tf_config = some_custom_config\n",
    "config = tf.compat.v1.ConfigProto()\n",
    "sess = tf.compat.v1.Session(config=config)\n",
    "graph = tf.compat.v1.get_default_graph()\n",
    "\n",
    "# IMPORTANT: models have to be loaded AFTER SETTING THE SESSION for keras! \n",
    "# Otherwise, their weights will be unavailable in the threads after the session there has been set\n",
    "set_session(sess)"
   ]
  },
  {
   "cell_type": "code",
   "execution_count": null,
   "metadata": {},
   "outputs": [],
   "source": []
  },
  {
   "cell_type": "code",
   "execution_count": 30,
   "metadata": {},
   "outputs": [],
   "source": [
    "# import tensorflow as tf\n",
    "# gpu_devices = tf.config.experimental.list_physical_devices('GPU')\n",
    "# for device in gpu_devices: tf.config.experimental.set_memory_growth(device, True)"
   ]
  },
  {
   "cell_type": "code",
   "execution_count": 31,
   "metadata": {},
   "outputs": [],
   "source": [
    "session = keras.backend.get_session()\n",
    "init = tf.global_variables_initializer()\n",
    "session.run(init)"
   ]
  },
  {
   "cell_type": "code",
   "execution_count": 32,
   "metadata": {
    "scrolled": true
   },
   "outputs": [
    {
     "name": "stdout",
     "output_type": "stream",
     "text": [
      "WARNING:tensorflow:From /home/renupaturkar1234/alphabets/lib/python3.5/site-packages/tensorflow/python/ops/math_ops.py:3066: to_int32 (from tensorflow.python.ops.math_ops) is deprecated and will be removed in a future version.\n",
      "Instructions for updating:\n",
      "Use tf.cast instead.\n",
      "Epoch 1/100\n",
      " - 35s - loss: 2.4943 - accuracy: 0.0900 - val_loss: 2.3110 - val_accuracy: 0.1000\n",
      "Epoch 2/100\n",
      " - 17s - loss: 2.3027 - accuracy: 0.1167 - val_loss: 2.2929 - val_accuracy: 0.1000\n",
      "Epoch 3/100\n",
      " - 17s - loss: 2.3042 - accuracy: 0.1367 - val_loss: 2.2756 - val_accuracy: 0.1000\n",
      "Epoch 4/100\n",
      " - 17s - loss: 2.2157 - accuracy: 0.2333 - val_loss: 1.6116 - val_accuracy: 0.3467\n",
      "Epoch 5/100\n",
      " - 17s - loss: 1.3911 - accuracy: 0.5167 - val_loss: 1.2322 - val_accuracy: 0.6533\n",
      "Epoch 6/100\n",
      " - 17s - loss: 0.9093 - accuracy: 0.7200 - val_loss: 0.5205 - val_accuracy: 0.7967\n",
      "Epoch 7/100\n",
      " - 17s - loss: 0.5721 - accuracy: 0.8100 - val_loss: 1.9271 - val_accuracy: 0.8433\n",
      "Epoch 8/100\n",
      " - 17s - loss: 0.6111 - accuracy: 0.8367 - val_loss: 0.4147 - val_accuracy: 0.8767\n",
      "Epoch 9/100\n",
      " - 17s - loss: 0.3931 - accuracy: 0.8633 - val_loss: 0.7237 - val_accuracy: 0.9033\n",
      "Epoch 10/100\n",
      " - 17s - loss: 0.2590 - accuracy: 0.9133 - val_loss: 0.1846 - val_accuracy: 0.8100\n",
      "Epoch 11/100\n",
      " - 17s - loss: 0.2976 - accuracy: 0.8967 - val_loss: 0.2633 - val_accuracy: 0.9133\n",
      "Epoch 12/100\n",
      " - 17s - loss: 0.2536 - accuracy: 0.9300 - val_loss: 0.1532 - val_accuracy: 0.9133\n",
      "Epoch 13/100\n",
      " - 17s - loss: 0.3466 - accuracy: 0.9133 - val_loss: 0.4756 - val_accuracy: 0.9233\n",
      "Epoch 14/100\n",
      " - 17s - loss: 0.1754 - accuracy: 0.9333 - val_loss: 0.0414 - val_accuracy: 0.9433\n",
      "Epoch 15/100\n",
      " - 17s - loss: 0.1380 - accuracy: 0.9567 - val_loss: 0.1317 - val_accuracy: 0.9300\n",
      "Epoch 16/100\n",
      " - 17s - loss: 0.1584 - accuracy: 0.9500 - val_loss: 0.3145 - val_accuracy: 0.9333\n",
      "Epoch 17/100\n",
      " - 17s - loss: 0.1941 - accuracy: 0.9233 - val_loss: 0.1368 - val_accuracy: 0.9567\n",
      "Epoch 18/100\n",
      " - 17s - loss: 0.2023 - accuracy: 0.9433 - val_loss: 0.0289 - val_accuracy: 0.9467\n",
      "Epoch 19/100\n",
      " - 17s - loss: 0.1447 - accuracy: 0.9600 - val_loss: 0.0293 - val_accuracy: 0.9767\n",
      "Epoch 20/100\n",
      " - 17s - loss: 0.1527 - accuracy: 0.9733 - val_loss: 0.0899 - val_accuracy: 0.9633\n",
      "Epoch 21/100\n",
      " - 17s - loss: 0.1668 - accuracy: 0.9533 - val_loss: 0.1212 - val_accuracy: 0.9733\n",
      "Epoch 22/100\n",
      " - 17s - loss: 0.1125 - accuracy: 0.9633 - val_loss: 0.0484 - val_accuracy: 0.9600\n",
      "Epoch 23/100\n",
      " - 17s - loss: 0.0557 - accuracy: 0.9833 - val_loss: 0.2419 - val_accuracy: 0.9600\n",
      "Epoch 24/100\n",
      " - 17s - loss: 0.2175 - accuracy: 0.9133 - val_loss: 0.0675 - val_accuracy: 0.9667\n",
      "Epoch 25/100\n",
      " - 17s - loss: 0.1004 - accuracy: 0.9733 - val_loss: 0.0261 - val_accuracy: 0.9633\n",
      "Epoch 26/100\n",
      " - 17s - loss: 0.1168 - accuracy: 0.9733 - val_loss: 0.3172 - val_accuracy: 0.9433\n",
      "Epoch 27/100\n",
      " - 17s - loss: 0.1730 - accuracy: 0.9333 - val_loss: 3.2723e-06 - val_accuracy: 0.9467\n",
      "Epoch 28/100\n",
      " - 17s - loss: 0.0931 - accuracy: 0.9800 - val_loss: 0.0203 - val_accuracy: 0.9500\n",
      "Epoch 29/100\n",
      " - 17s - loss: 0.0953 - accuracy: 0.9667 - val_loss: 2.8988e-05 - val_accuracy: 0.9767\n",
      "Epoch 30/100\n",
      " - 17s - loss: 0.1568 - accuracy: 0.9667 - val_loss: 0.2750 - val_accuracy: 0.9700\n",
      "Epoch 31/100\n",
      " - 17s - loss: 0.0342 - accuracy: 0.9867 - val_loss: 0.0031 - val_accuracy: 0.9900\n",
      "Epoch 32/100\n",
      " - 17s - loss: 0.1725 - accuracy: 0.9700 - val_loss: 0.0240 - val_accuracy: 0.9900\n",
      "Epoch 33/100\n",
      " - 17s - loss: 0.0306 - accuracy: 0.9900 - val_loss: 9.3530e-05 - val_accuracy: 0.9833\n",
      "Epoch 34/100\n",
      " - 17s - loss: 0.0949 - accuracy: 0.9867 - val_loss: 0.0131 - val_accuracy: 0.9967\n",
      "Epoch 35/100\n",
      " - 17s - loss: 0.0206 - accuracy: 0.9900 - val_loss: 9.8231e-06 - val_accuracy: 0.9967\n",
      "Epoch 36/100\n",
      " - 17s - loss: 0.0960 - accuracy: 0.9767 - val_loss: 0.0033 - val_accuracy: 0.9733\n",
      "Epoch 37/100\n",
      " - 17s - loss: 0.0112 - accuracy: 0.9967 - val_loss: 7.8876e-04 - val_accuracy: 0.9900\n",
      "Epoch 38/100\n",
      " - 17s - loss: 0.0853 - accuracy: 0.9833 - val_loss: 0.0032 - val_accuracy: 0.9867\n",
      "Epoch 39/100\n",
      " - 17s - loss: 0.0526 - accuracy: 0.9867 - val_loss: 0.0021 - val_accuracy: 0.9900\n",
      "Epoch 40/100\n",
      " - 17s - loss: 0.0176 - accuracy: 0.9933 - val_loss: 0.0018 - val_accuracy: 0.9767\n",
      "Epoch 41/100\n",
      " - 17s - loss: 0.0189 - accuracy: 0.9900 - val_loss: 0.0013 - val_accuracy: 0.9900\n",
      "Epoch 42/100\n",
      " - 17s - loss: 0.1087 - accuracy: 0.9700 - val_loss: 0.0046 - val_accuracy: 0.9800\n",
      "Epoch 43/100\n",
      " - 17s - loss: 0.0329 - accuracy: 0.9867 - val_loss: 3.0829e-04 - val_accuracy: 0.9800\n",
      "Epoch 44/100\n",
      " - 17s - loss: 0.0865 - accuracy: 0.9800 - val_loss: 0.0122 - val_accuracy: 0.9933\n",
      "Epoch 45/100\n",
      " - 17s - loss: 0.0823 - accuracy: 0.9833 - val_loss: 0.8458 - val_accuracy: 0.9133\n",
      "Epoch 46/100\n",
      " - 17s - loss: 0.0792 - accuracy: 0.9700 - val_loss: 0.0211 - val_accuracy: 0.9700\n",
      "Epoch 47/100\n",
      " - 17s - loss: 0.0319 - accuracy: 0.9933 - val_loss: 4.4168e-06 - val_accuracy: 0.9933\n",
      "Epoch 48/100\n",
      " - 17s - loss: 0.0350 - accuracy: 0.9900 - val_loss: 0.0454 - val_accuracy: 0.9833\n",
      "Epoch 49/100\n",
      " - 17s - loss: 0.0337 - accuracy: 0.9900 - val_loss: 4.6775e-04 - val_accuracy: 0.9933\n",
      "Epoch 50/100\n",
      " - 17s - loss: 0.0628 - accuracy: 0.9900 - val_loss: 0.0307 - val_accuracy: 0.9800\n",
      "Epoch 51/100\n",
      " - 17s - loss: 0.0079 - accuracy: 1.0000 - val_loss: 0.8419 - val_accuracy: 0.9933\n",
      "Epoch 52/100\n",
      " - 17s - loss: 8.9528e-04 - accuracy: 1.0000 - val_loss: 3.3512e-05 - val_accuracy: 0.9967\n",
      "Epoch 53/100\n",
      " - 17s - loss: 0.0031 - accuracy: 0.9967 - val_loss: 7.9503e-05 - val_accuracy: 0.9967\n",
      "Epoch 54/100\n",
      " - 17s - loss: 0.0423 - accuracy: 0.9967 - val_loss: 0.0011 - val_accuracy: 0.9900\n",
      "Epoch 55/100\n",
      " - 17s - loss: 0.0431 - accuracy: 0.9833 - val_loss: 2.2263e-04 - val_accuracy: 0.9933\n",
      "Epoch 56/100\n",
      " - 17s - loss: 0.0027 - accuracy: 1.0000 - val_loss: 9.9187e-06 - val_accuracy: 0.9967\n",
      "Epoch 57/100\n",
      " - 17s - loss: 7.2037e-04 - accuracy: 1.0000 - val_loss: 1.8252e-05 - val_accuracy: 0.9967\n",
      "Epoch 58/100\n",
      " - 17s - loss: 0.0165 - accuracy: 0.9967 - val_loss: 3.1466e-04 - val_accuracy: 0.9967\n",
      "Epoch 59/100\n",
      " - 17s - loss: 0.0712 - accuracy: 0.9867 - val_loss: 0.0353 - val_accuracy: 0.9967\n",
      "Epoch 60/100\n",
      " - 17s - loss: 0.0033 - accuracy: 1.0000 - val_loss: 3.2851e-05 - val_accuracy: 0.9967\n",
      "Epoch 61/100\n",
      " - 17s - loss: 0.0018 - accuracy: 1.0000 - val_loss: 1.1921e-07 - val_accuracy: 0.9967\n",
      "Epoch 62/100\n",
      " - 17s - loss: 0.0288 - accuracy: 0.9967 - val_loss: 1.8727e-04 - val_accuracy: 0.9933\n",
      "Epoch 63/100\n",
      " - 17s - loss: 0.0047 - accuracy: 1.0000 - val_loss: 6.6757e-07 - val_accuracy: 0.9967\n",
      "Epoch 64/100\n",
      " - 17s - loss: 0.0336 - accuracy: 0.9933 - val_loss: 0.0393 - val_accuracy: 0.9433\n",
      "Epoch 65/100\n",
      " - 17s - loss: 0.0414 - accuracy: 0.9900 - val_loss: 0.0017 - val_accuracy: 0.9733\n",
      "Epoch 66/100\n",
      " - 17s - loss: 0.0729 - accuracy: 0.9833 - val_loss: 0.0069 - val_accuracy: 0.9667\n",
      "Epoch 67/100\n",
      " - 17s - loss: 0.0821 - accuracy: 0.9833 - val_loss: 4.4681e-04 - val_accuracy: 0.9900\n",
      "Epoch 68/100\n",
      " - 17s - loss: 0.0341 - accuracy: 0.9900 - val_loss: 3.1710e-06 - val_accuracy: 0.9933\n",
      "Epoch 69/100\n",
      " - 17s - loss: 0.1430 - accuracy: 0.9633 - val_loss: 0.0652 - val_accuracy: 0.9900\n",
      "Epoch 70/100\n",
      " - 17s - loss: 0.0832 - accuracy: 0.9733 - val_loss: 0.0013 - val_accuracy: 0.9867\n",
      "Epoch 71/100\n",
      " - 17s - loss: 0.0411 - accuracy: 0.9833 - val_loss: 3.4498e-04 - val_accuracy: 0.9967\n",
      "Epoch 72/100\n",
      " - 17s - loss: 0.0149 - accuracy: 0.9933 - val_loss: 0.0019 - val_accuracy: 0.9933\n",
      "Epoch 73/100\n",
      " - 17s - loss: 0.0797 - accuracy: 0.9767 - val_loss: 0.5642 - val_accuracy: 0.9333\n",
      "Epoch 74/100\n",
      " - 17s - loss: 0.1012 - accuracy: 0.9767 - val_loss: 0.0085 - val_accuracy: 0.9833\n",
      "Epoch 75/100\n",
      " - 17s - loss: 0.0804 - accuracy: 0.9733 - val_loss: 2.9674e-04 - val_accuracy: 0.9733\n",
      "Epoch 76/100\n",
      " - 17s - loss: 0.0308 - accuracy: 0.9933 - val_loss: 0.5834 - val_accuracy: 0.9767\n",
      "Epoch 77/100\n",
      " - 17s - loss: 0.1174 - accuracy: 0.9867 - val_loss: 0.0241 - val_accuracy: 0.9833\n",
      "Epoch 78/100\n",
      " - 17s - loss: 0.1010 - accuracy: 0.9733 - val_loss: 0.0091 - val_accuracy: 0.9533\n",
      "Epoch 79/100\n",
      " - 17s - loss: 0.0422 - accuracy: 0.9833 - val_loss: 0.0056 - val_accuracy: 0.9733\n",
      "Epoch 80/100\n",
      " - 17s - loss: 0.0774 - accuracy: 0.9833 - val_loss: 0.0122 - val_accuracy: 0.9933\n",
      "Epoch 81/100\n",
      " - 17s - loss: 0.0101 - accuracy: 1.0000 - val_loss: 2.7801e-04 - val_accuracy: 0.9933\n",
      "Epoch 82/100\n",
      " - 17s - loss: 3.9347e-04 - accuracy: 1.0000 - val_loss: 3.2783e-07 - val_accuracy: 0.9933\n"
     ]
    },
    {
     "name": "stdout",
     "output_type": "stream",
     "text": [
      "Epoch 83/100\n",
      " - 17s - loss: 0.0104 - accuracy: 0.9967 - val_loss: 0.0013 - val_accuracy: 0.9633\n",
      "Epoch 84/100\n",
      " - 17s - loss: 0.0530 - accuracy: 0.9900 - val_loss: 0.0224 - val_accuracy: 0.9700\n",
      "Epoch 85/100\n",
      " - 17s - loss: 0.0375 - accuracy: 0.9867 - val_loss: 1.6321e-04 - val_accuracy: 0.9900\n",
      "Epoch 86/100\n",
      " - 17s - loss: 0.0100 - accuracy: 0.9967 - val_loss: 2.9544e-04 - val_accuracy: 0.9933\n",
      "Epoch 87/100\n",
      " - 17s - loss: 0.0323 - accuracy: 0.9933 - val_loss: 0.5014 - val_accuracy: 0.9767\n",
      "Epoch 88/100\n",
      " - 17s - loss: 0.0293 - accuracy: 0.9967 - val_loss: 5.1058e-05 - val_accuracy: 0.9867\n",
      "Epoch 89/100\n",
      " - 17s - loss: 5.3388e-04 - accuracy: 1.0000 - val_loss: 1.6689e-07 - val_accuracy: 0.9933\n",
      "Epoch 90/100\n",
      " - 17s - loss: 0.1236 - accuracy: 0.9667 - val_loss: 0.0963 - val_accuracy: 0.9767\n",
      "Epoch 91/100\n",
      " - 17s - loss: 0.0717 - accuracy: 0.9767 - val_loss: 0.0027 - val_accuracy: 0.9933\n",
      "Epoch 92/100\n",
      " - 17s - loss: 0.0566 - accuracy: 0.9867 - val_loss: 0.0014 - val_accuracy: 0.9633\n",
      "Epoch 93/100\n",
      " - 17s - loss: 0.0693 - accuracy: 0.9833 - val_loss: 0.0906 - val_accuracy: 0.9533\n",
      "Epoch 94/100\n",
      " - 17s - loss: 0.0417 - accuracy: 0.9900 - val_loss: 0.0025 - val_accuracy: 0.9933\n",
      "Epoch 95/100\n",
      " - 17s - loss: 0.0412 - accuracy: 0.9900 - val_loss: 5.7738e-05 - val_accuracy: 0.9933\n",
      "Epoch 96/100\n",
      " - 17s - loss: 0.0438 - accuracy: 0.9867 - val_loss: 0.2099 - val_accuracy: 0.9900\n",
      "Epoch 97/100\n",
      " - 17s - loss: 0.0500 - accuracy: 0.9833 - val_loss: 8.3050e-04 - val_accuracy: 0.9867\n",
      "Epoch 98/100\n",
      " - 17s - loss: 0.0240 - accuracy: 0.9900 - val_loss: 4.4474e-04 - val_accuracy: 0.9867\n",
      "Epoch 99/100\n",
      " - 17s - loss: 0.0321 - accuracy: 0.9900 - val_loss: 5.4071e-04 - val_accuracy: 0.9933\n",
      "Epoch 100/100\n",
      " - 17s - loss: 0.0135 - accuracy: 0.9933 - val_loss: 4.9545e-04 - val_accuracy: 0.9933\n"
     ]
    },
    {
     "data": {
      "text/plain": [
       "<keras.callbacks.callbacks.History at 0x7fe00406d438>"
      ]
     },
     "execution_count": 32,
     "metadata": {},
     "output_type": "execute_result"
    }
   ],
   "source": [
    "model.fit_generator(train_batches, steps_per_epoch=30, validation_data=valid_batches, validation_steps=30, epochs=100, verbose=2)"
   ]
  },
  {
   "cell_type": "code",
   "execution_count": 33,
   "metadata": {},
   "outputs": [],
   "source": [
    "model.save('1_10_digit_train_4.h5')"
   ]
  },
  {
   "cell_type": "code",
   "execution_count": 13,
   "metadata": {},
   "outputs": [
    {
     "name": "stdout",
     "output_type": "stream",
     "text": [
      "WARNING:tensorflow:From /home/dhanashree/MyFolder/Dev/video_classification/lib/python3.5/site-packages/tensorflow/python/ops/resource_variable_ops.py:435: colocate_with (from tensorflow.python.framework.ops) is deprecated and will be removed in a future version.\n",
      "Instructions for updating:\n",
      "Colocations handled automatically by placer.\n"
     ]
    }
   ],
   "source": [
    "from keras.models import load_model\n",
    "from tensorflow.python.keras.backend import set_session\n",
    "\n",
    "\n",
    "config = tf.compat.v1.ConfigProto()\n",
    "sess = tf.compat.v1.Session(config=config)\n",
    "vgg16_model = keras.applications.vgg16.VGG16()\n",
    "vgg16_model.layers.pop()\n",
    "#vgg16_model.outputs = [vgg16_model.layers[-6].output]\n",
    "vgg16_model.layers[-1].outbound_nodes = []\n",
    "model = Sequential()\n",
    "for layer in vgg16_model.layers:\n",
    "    model.add(layer)\n",
    "for layer in model.layers[:-18]:\n",
    "    layer.trainable = False\n",
    "model.add(Dense(10, activation='softmax'))\n",
    "set_session(sess)\n",
    "model.load_weights('/home/dhanashree/MyFolder/Dev/atoz/digits_training/1_10_digit_train_4.h5')"
   ]
  },
  {
   "cell_type": "code",
   "execution_count": 14,
   "metadata": {},
   "outputs": [],
   "source": [
    "test_labels = test_batches.classes"
   ]
  },
  {
   "cell_type": "code",
   "execution_count": 15,
   "metadata": {},
   "outputs": [
    {
     "data": {
      "text/plain": [
       "(200,)"
      ]
     },
     "execution_count": 15,
     "metadata": {},
     "output_type": "execute_result"
    }
   ],
   "source": [
    "test_labels.shape"
   ]
  },
  {
   "cell_type": "code",
   "execution_count": 16,
   "metadata": {
    "scrolled": true
   },
   "outputs": [
    {
     "data": {
      "text/plain": [
       "{'0': 0,\n",
       " '1': 1,\n",
       " '2': 2,\n",
       " '3': 3,\n",
       " '4': 4,\n",
       " '5': 5,\n",
       " '6': 6,\n",
       " '7': 7,\n",
       " '8': 8,\n",
       " '9': 9}"
      ]
     },
     "execution_count": 16,
     "metadata": {},
     "output_type": "execute_result"
    }
   ],
   "source": [
    "test_batches.class_indices"
   ]
  },
  {
   "cell_type": "code",
   "execution_count": 17,
   "metadata": {},
   "outputs": [],
   "source": [
    "def plot_confusion_matrix(cm, classes, normalize=False, title='Confusion matrix', cmap=plt.cm.Blues):\n",
    "    \"\"\"\n",
    "    This function prints and plot confusion matrix\n",
    "    Normalization can be applied by setting 'normalize=True'\n",
    "    \"\"\"\n",
    "    plt.imshow(cm, interpolation='nearest', cmap=cmap)\n",
    "    plt.title(title)\n",
    "    plt.colorbar()\n",
    "    tick_marks=np.arange(len(classes))\n",
    "    plt.xticks(tick_marks, classes, rotation=45)\n",
    "    plt.yticks(tick_marks, classes)\n",
    "    \n",
    "    if normalize:\n",
    "        cm = cm.astype('float') / cm.sum(axis=1)[:, np.newaxis]\n",
    "        print(\"Normalized confusion matrix\")\n",
    "    else:\n",
    "        print('Confusion matrix, without normalization')\n",
    "        \n",
    "    print(cm)\n",
    "    \n",
    "    thresh = cm.max() / 2\n",
    "    for i,j in itertools.product(range(cm.shape[0]), range(cm.shape[1])):\n",
    "        plt.text(j, i, cm[i, j], horizontalalignment=\"center\", color=\"white\" if cm[i, j] > thresh else \"black\")\n",
    "        \n",
    "    plt.tight_layout()\n",
    "    plt.ylabel('True label')\n",
    "    plt.xlabel('Predicted label')\n",
    "    "
   ]
  },
  {
   "cell_type": "code",
   "execution_count": 18,
   "metadata": {},
   "outputs": [],
   "source": [
    "predictions = model.predict_generator(test_batches, steps=20, verbose=2)"
   ]
  },
  {
   "cell_type": "code",
   "execution_count": 19,
   "metadata": {},
   "outputs": [],
   "source": [
    "pre=predictions.argmax(axis=1)"
   ]
  },
  {
   "cell_type": "code",
   "execution_count": 20,
   "metadata": {},
   "outputs": [
    {
     "data": {
      "text/plain": [
       "<keras.preprocessing.image.DirectoryIterator at 0x7f3abc38ac50>"
      ]
     },
     "execution_count": 20,
     "metadata": {},
     "output_type": "execute_result"
    }
   ],
   "source": [
    "test_batches"
   ]
  },
  {
   "cell_type": "code",
   "execution_count": 21,
   "metadata": {},
   "outputs": [
    {
     "data": {
      "text/plain": [
       "(200, 10)"
      ]
     },
     "execution_count": 21,
     "metadata": {},
     "output_type": "execute_result"
    }
   ],
   "source": [
    "predictions.shape"
   ]
  },
  {
   "cell_type": "code",
   "execution_count": 22,
   "metadata": {},
   "outputs": [
    {
     "data": {
      "text/plain": [
       "array([0, 0, 0, 0, 0, 0, 0, 0, 0, 0, 0, 0, 0, 0, 0, 0, 0, 0, 0, 0, 1, 1,\n",
       "       1, 1, 1, 1, 1, 1, 1, 1, 1, 1, 1, 1, 1, 1, 1, 1, 1, 1, 2, 2, 2, 2,\n",
       "       2, 2, 2, 2, 2, 2, 2, 2, 2, 2, 2, 2, 2, 2, 2, 2, 3, 3, 3, 3, 3, 3,\n",
       "       3, 3, 3, 3, 3, 3, 3, 3, 3, 3, 3, 3, 3, 3, 4, 4, 4, 4, 6, 4, 4, 4,\n",
       "       4, 4, 4, 4, 4, 4, 4, 4, 4, 4, 4, 4, 5, 5, 5, 5, 5, 5, 5, 5, 5, 5,\n",
       "       5, 5, 5, 5, 5, 5, 5, 5, 5, 5, 6, 6, 6, 6, 6, 6, 6, 6, 6, 6, 6, 6,\n",
       "       6, 6, 6, 6, 6, 6, 6, 6, 7, 7, 7, 7, 7, 7, 7, 7, 7, 7, 7, 7, 7, 7,\n",
       "       7, 7, 7, 7, 7, 7, 8, 8, 8, 8, 8, 8, 8, 8, 8, 8, 8, 8, 8, 8, 8, 8,\n",
       "       8, 8, 8, 8, 9, 9, 9, 9, 9, 9, 9, 9, 9, 9, 9, 9, 9, 9, 9, 9, 9, 9,\n",
       "       9, 9])"
      ]
     },
     "execution_count": 22,
     "metadata": {},
     "output_type": "execute_result"
    }
   ],
   "source": [
    "pre"
   ]
  },
  {
   "cell_type": "code",
   "execution_count": 23,
   "metadata": {},
   "outputs": [
    {
     "data": {
      "text/plain": [
       "array([0, 0, 0, 0, 0, 0, 0, 0, 0, 0, 0, 0, 0, 0, 0, 0, 0, 0, 0, 0, 1, 1,\n",
       "       1, 1, 1, 1, 1, 1, 1, 1, 1, 1, 1, 1, 1, 1, 1, 1, 1, 1, 2, 2, 2, 2,\n",
       "       2, 2, 2, 2, 2, 2, 2, 2, 2, 2, 2, 2, 2, 2, 2, 2, 3, 3, 3, 3, 3, 3,\n",
       "       3, 3, 3, 3, 3, 3, 3, 3, 3, 3, 3, 3, 3, 3, 4, 4, 4, 4, 4, 4, 4, 4,\n",
       "       4, 4, 4, 4, 4, 4, 4, 4, 4, 4, 4, 4, 5, 5, 5, 5, 5, 5, 5, 5, 5, 5,\n",
       "       5, 5, 5, 5, 5, 5, 5, 5, 5, 5, 6, 6, 6, 6, 6, 6, 6, 6, 6, 6, 6, 6,\n",
       "       6, 6, 6, 6, 6, 6, 6, 6, 7, 7, 7, 7, 7, 7, 7, 7, 7, 7, 7, 7, 7, 7,\n",
       "       7, 7, 7, 7, 7, 7, 8, 8, 8, 8, 8, 8, 8, 8, 8, 8, 8, 8, 8, 8, 8, 8,\n",
       "       8, 8, 8, 8, 9, 9, 9, 9, 9, 9, 9, 9, 9, 9, 9, 9, 9, 9, 9, 9, 9, 9,\n",
       "       9, 9], dtype=int32)"
      ]
     },
     "execution_count": 23,
     "metadata": {},
     "output_type": "execute_result"
    }
   ],
   "source": [
    "test_labels"
   ]
  },
  {
   "cell_type": "code",
   "execution_count": 24,
   "metadata": {},
   "outputs": [
    {
     "data": {
      "text/plain": [
       "0"
      ]
     },
     "execution_count": 24,
     "metadata": {},
     "output_type": "execute_result"
    }
   ],
   "source": [
    "predictions[0].argmax()"
   ]
  },
  {
   "cell_type": "code",
   "execution_count": 25,
   "metadata": {},
   "outputs": [],
   "source": [
    "#cm = confusion_matrix(test_labels, predictions.argmax(axis=1))\n",
    "cm = confusion_matrix(test_labels, pre, labels=[0,1,2,3,4,5,6,7,8,9])"
   ]
  },
  {
   "cell_type": "code",
   "execution_count": 26,
   "metadata": {
    "scrolled": true
   },
   "outputs": [
    {
     "name": "stdout",
     "output_type": "stream",
     "text": [
      "Confusion matrix, without normalization\n",
      "[[20  0  0  0  0  0  0  0  0  0]\n",
      " [ 0 20  0  0  0  0  0  0  0  0]\n",
      " [ 0  0 20  0  0  0  0  0  0  0]\n",
      " [ 0  0  0 20  0  0  0  0  0  0]\n",
      " [ 0  0  0  0 19  0  1  0  0  0]\n",
      " [ 0  0  0  0  0 20  0  0  0  0]\n",
      " [ 0  0  0  0  0  0 20  0  0  0]\n",
      " [ 0  0  0  0  0  0  0 20  0  0]\n",
      " [ 0  0  0  0  0  0  0  0 20  0]\n",
      " [ 0  0  0  0  0  0  0  0  0 20]]\n"
     ]
    },
    {
     "data": {
      "image/png": "[encoded data removed]",
      "text/plain": [
       "<Figure size 432x288 with 2 Axes>"
      ]
     },
     "metadata": {
      "needs_background": "light"
     },
     "output_type": "display_data"
    }
   ],
   "source": [
    "lbls=['0','1','2','3','4','5','6','7','8','9']\n",
    "plot_confusion_matrix(cm,lbls,title='Confusion matrix')"
   ]
  },
  {
   "cell_type": "code",
   "execution_count": null,
   "metadata": {},
   "outputs": [],
   "source": [
    "# from keras import backend as K\n",
    "\n",
    "# def recall_m(y_true, y_pred):\n",
    "#     true_positives = K.sum(K.round(K.clip(y_true * y_pred, 0, 1)))\n",
    "#     possible_positives = K.sum(K.round(K.clip(y_true, 0, 1)))\n",
    "#     recall = true_positives / (possible_positives + K.epsilon())\n",
    "#     return recall\n",
    "\n",
    "# def precision_m(y_true, y_pred):\n",
    "#     true_positives = K.sum(K.round(K.clip(y_true * y_pred, 0, 1)))\n",
    "#     predicted_positives = K.sum(K.round(K.clip(y_pred, 0, 1)))\n",
    "#     precision = true_positives / (predicted_positives + K.epsilon())\n",
    "#     return precision\n",
    "\n",
    "# def f1_m(y_true, y_pred):\n",
    "#     precision = precision_m(y_true, y_pred)\n",
    "#     recall = recall_m(y_true, y_pred)\n",
    "#     return 2*((precision*recall)/(precision+recall+K.epsilon()))\n",
    "\n",
    "# # compile the model\n",
    "# model.compile(optimizer='adam', loss='binary_crossentropy', metrics=['acc',f1_m,precision_m, recall_m])\n",
    "\n",
    "# # fit the model\n",
    "# history = model.fit(Xtrain, ytrain, validation_split=0.3, epochs=10, verbose=0)\n",
    "\n",
    "# # evaluate the model\n",
    "# loss, accuracy, f1_score, precision, recall = model.evaluate(Xtest, ytest, verbose=0)\n"
   ]
  },
  {
   "cell_type": "code",
   "execution_count": 32,
   "metadata": {},
   "outputs": [
    {
     "name": "stdout",
     "output_type": "stream",
     "text": [
      "20/20 [==============================] - 3s 170ms/step\n"
     ]
    },
    {
     "data": {
      "text/plain": [
       "[1.1920930376163597e-07, 0.9950000047683716]"
      ]
     },
     "execution_count": 32,
     "metadata": {},
     "output_type": "execute_result"
    }
   ],
   "source": [
    "model.evaluate(test_batches)"
   ]
  },
  {
   "cell_type": "code",
   "execution_count": 28,
   "metadata": {},
   "outputs": [
    {
     "name": "stdout",
     "output_type": "stream",
     "text": [
      "20/20 [==============================] - 81s 4s/step\n"
     ]
    },
    {
     "data": {
      "text/plain": [
       "[1.1920928955078125e-07,\n",
       " 0.9950000047683716,\n",
       " 0.9950000047683716,\n",
       " 0.9950000047683716,\n",
       " 0.9950000047683716]"
      ]
     },
     "execution_count": 28,
     "metadata": {},
     "output_type": "execute_result"
    }
   ],
   "source": [
    "model.evaluate(test_batches)"
   ]
  },
  {
   "cell_type": "code",
   "execution_count": null,
   "metadata": {},
   "outputs": [],
   "source": []
  }
 ],
 "metadata": {
  "kernelspec": {
   "display_name": "video_classification",
   "language": "python",
   "name": "video_classification"
  },
  "language_info": {
   "codemirror_mode": {
    "name": "ipython",
    "version": 3
   },
   "file_extension": ".py",
   "mimetype": "text/x-python",
   "name": "python",
   "nbconvert_exporter": "python",
   "pygments_lexer": "ipython3",
   "version": "3.5.2"
  }
 },
 "nbformat": 4,
 "nbformat_minor": 4
}
