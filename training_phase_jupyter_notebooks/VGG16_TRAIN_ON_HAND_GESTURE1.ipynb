{
 "cells": [
  {
   "cell_type": "code",
   "execution_count": 1,
   "metadata": {},
   "outputs": [
    {
     "data": {
      "text/plain": [
       "'3.5.2 (default, Oct  8 2019, 13:06:37) \\n[GCC 5.4.0 20160609]'"
      ]
     },
     "execution_count": 1,
     "metadata": {},
     "output_type": "execute_result"
    }
   ],
   "source": [
    "import sys\n",
    "\n",
    "sys.version"
   ]
  },
  {
   "cell_type": "code",
   "execution_count": 2,
   "metadata": {
    "scrolled": true
   },
   "outputs": [
    {
     "name": "stderr",
     "output_type": "stream",
     "text": [
      "/home/dhanashree/MyFolder/Dev/video_classification/lib/python3.5/site-packages/tensorflow/python/framework/dtypes.py:526: FutureWarning: Passing (type, 1) or '1type' as a synonym of type is deprecated; in a future version of numpy, it will be understood as (type, (1,)) / '(1,)type'.\n",
      "  _np_qint8 = np.dtype([(\"qint8\", np.int8, 1)])\n",
      "/home/dhanashree/MyFolder/Dev/video_classification/lib/python3.5/site-packages/tensorflow/python/framework/dtypes.py:527: FutureWarning: Passing (type, 1) or '1type' as a synonym of type is deprecated; in a future version of numpy, it will be understood as (type, (1,)) / '(1,)type'.\n",
      "  _np_quint8 = np.dtype([(\"quint8\", np.uint8, 1)])\n",
      "/home/dhanashree/MyFolder/Dev/video_classification/lib/python3.5/site-packages/tensorflow/python/framework/dtypes.py:528: FutureWarning: Passing (type, 1) or '1type' as a synonym of type is deprecated; in a future version of numpy, it will be understood as (type, (1,)) / '(1,)type'.\n",
      "  _np_qint16 = np.dtype([(\"qint16\", np.int16, 1)])\n",
      "/home/dhanashree/MyFolder/Dev/video_classification/lib/python3.5/site-packages/tensorflow/python/framework/dtypes.py:529: FutureWarning: Passing (type, 1) or '1type' as a synonym of type is deprecated; in a future version of numpy, it will be understood as (type, (1,)) / '(1,)type'.\n",
      "  _np_quint16 = np.dtype([(\"quint16\", np.uint16, 1)])\n",
      "/home/dhanashree/MyFolder/Dev/video_classification/lib/python3.5/site-packages/tensorflow/python/framework/dtypes.py:530: FutureWarning: Passing (type, 1) or '1type' as a synonym of type is deprecated; in a future version of numpy, it will be understood as (type, (1,)) / '(1,)type'.\n",
      "  _np_qint32 = np.dtype([(\"qint32\", np.int32, 1)])\n",
      "/home/dhanashree/MyFolder/Dev/video_classification/lib/python3.5/site-packages/tensorflow/python/framework/dtypes.py:535: FutureWarning: Passing (type, 1) or '1type' as a synonym of type is deprecated; in a future version of numpy, it will be understood as (type, (1,)) / '(1,)type'.\n",
      "  np_resource = np.dtype([(\"resource\", np.ubyte, 1)])\n",
      "Using TensorFlow backend.\n"
     ]
    }
   ],
   "source": [
    "import numpy as np\n",
    "import os\n",
    "os.environ['KERAS_BACKEND'] = 'tensorflow'\n",
    "import tensorflow as tf\n",
    "# from tensorflow.compat.v1 import InteractiveSession\n",
    "# config = tf.compat.v1.ConfigProto()\n",
    "# config.gpu_options.allow_growth = True\n",
    "# sess = tf.compat.v1.Session(config=config)\n",
    "import keras\n",
    "from keras import backend as K\n",
    "from keras.models import Sequential\n",
    "from keras.layers import Activation\n",
    "from keras.layers import Dense, Flatten\n",
    "from keras.optimizers import Adam\n",
    "from keras.metrics import categorical_crossentropy\n",
    "from keras.preprocessing.image import ImageDataGenerator\n",
    "from keras.layers.normalization import BatchNormalization\n",
    "from keras.layers.convolutional import *\n",
    "from matplotlib import pyplot as plt\n",
    "from sklearn.metrics import confusion_matrix\n",
    "import itertools\n",
    "import matplotlib.pyplot as plt\n",
    "%matplotlib inline"
   ]
  },
  {
   "cell_type": "code",
   "execution_count": 3,
   "metadata": {},
   "outputs": [],
   "source": [
    "import tensorflow as tf\n",
    "config = tf.compat.v1.ConfigProto()\n",
    "config.gpu_options.allow_growth = True"
   ]
  },
  {
   "cell_type": "code",
   "execution_count": 4,
   "metadata": {},
   "outputs": [],
   "source": [
    "tf_config = tf.compat.v1.ConfigProto()\n",
    "sess = tf.compat.v1.Session(config=tf_config)\n",
    "graph = tf.compat.v1.get_default_graph()"
   ]
  },
  {
   "cell_type": "code",
   "execution_count": 5,
   "metadata": {},
   "outputs": [],
   "source": [
    "sess = tf.compat.v1.Session(config=config)\n",
    "tf.keras.backend.set_session(tf.Session(config=config))"
   ]
  },
  {
   "cell_type": "code",
   "execution_count": 6,
   "metadata": {},
   "outputs": [
    {
     "data": {
      "text/plain": [
       "'2.3.1'"
      ]
     },
     "execution_count": 6,
     "metadata": {},
     "output_type": "execute_result"
    }
   ],
   "source": [
    "keras.__version__"
   ]
  },
  {
   "cell_type": "code",
   "execution_count": 7,
   "metadata": {},
   "outputs": [
    {
     "data": {
      "text/plain": [
       "'1.13.1'"
      ]
     },
     "execution_count": 7,
     "metadata": {},
     "output_type": "execute_result"
    }
   ],
   "source": [
    "# Just disables the warning, doesn't enable AVX/FMA\n",
    "import tensorflow as tf\n",
    "import os\n",
    "tf.__version__\n",
    "#os.environ['TF_CPP_MIN_LOG_LEVEL'] = '2'"
   ]
  },
  {
   "cell_type": "code",
   "execution_count": 8,
   "metadata": {},
   "outputs": [
    {
     "data": {
      "text/plain": [
       "False"
      ]
     },
     "execution_count": 8,
     "metadata": {},
     "output_type": "execute_result"
    }
   ],
   "source": [
    "tf.test.is_gpu_available()"
   ]
  },
  {
   "cell_type": "code",
   "execution_count": 9,
   "metadata": {},
   "outputs": [
    {
     "data": {
      "text/plain": [
       "'/home/dhanashree/MyFolder/Dev/atoz/digits_training'"
      ]
     },
     "execution_count": 9,
     "metadata": {},
     "output_type": "execute_result"
    }
   ],
   "source": [
    "%pwd"
   ]
  },
  {
   "cell_type": "code",
   "execution_count": 10,
   "metadata": {},
   "outputs": [],
   "source": [
    "# pip3 install ipykernel%%bash\n",
    "# cd asl_alphabet_train/train/\n",
    "# for i in {20..24};\n",
    "# do\n",
    "#     d=`expr $i + 65`\n",
    "#     c=$(printf \\\\$(printf '%03o' $d))\n",
    "#     # c=\"space\"\n",
    "#     a=$(find $c/ -type f | shuf -n 200)\n",
    "#     mv $a ../valid/$c/\n",
    "#     b=$(find $c/ -type f | shuf -n 300)\n",
    "#     mv $b ../test/$c/\n",
    "# done"
   ]
  },
  {
   "cell_type": "code",
   "execution_count": 11,
   "metadata": {},
   "outputs": [],
   "source": [
    "# %%bash\n",
    "# cd asl_alphabet_train/train/\n",
    "# i=24\n",
    "# d=`expr $i + 65`\n",
    "# # c=$(printf \\\\$(printf '%03o' $d))\n",
    "# c=\"space\"\n",
    "# a=$(find $c/ -type f | shuf -n 200)\n",
    "# mv $a ../valid/$c/\n",
    "# b=$(find $c/ -type f | shuf -n 300)\n",
    "# mv $b ../test/$c/"
   ]
  },
  {
   "cell_type": "code",
   "execution_count": 12,
   "metadata": {},
   "outputs": [],
   "source": [
    "# %%bash\n",
    "# cd asl_alphabet_train/test/\n",
    "# for i in {20..20};\n",
    "# do\n",
    "#     d=`expr $i + 65`\n",
    "#     c=$(printf \\\\$(printf '%03o' $d))\n",
    "#     # c=\"space\"\n",
    "#     b=$(find $c/ -type f | shuf -n 300)\n",
    "#     mv $b ../train/$c/\n",
    "# done"
   ]
  },
  {
   "cell_type": "code",
   "execution_count": 13,
   "metadata": {},
   "outputs": [],
   "source": [
    "# %%bash\n",
    "# cd asl_alphabet_train/valid/\n",
    "# i=24\n",
    "# d=`expr $i + 65`\n",
    "# # c=$(printf \\\\$(printf '%03o' $d))\n",
    "# c=\"del\"\n",
    "# # a=$(find $c/ -type f | shuf -n 50)\n",
    "# # mv $a ../valid/$c/\n",
    "# b=$(find $c/ -type f | shuf -n 50)\n",
    "# mv $b ../train/$c/"
   ]
  },
  {
   "cell_type": "code",
   "execution_count": 14,
   "metadata": {},
   "outputs": [],
   "source": [
    "train_path = 'asl_alphabet_train/train'\n",
    "valid_path = 'asl_alphabet_train/valid'\n",
    "test_path = 'asl_alphabet_train/test'"
   ]
  },
  {
   "cell_type": "code",
   "execution_count": 15,
   "metadata": {},
   "outputs": [
    {
     "name": "stdout",
     "output_type": "stream",
     "text": [
      "Found 65000 images belonging to 26 classes.\n",
      "Found 5200 images belonging to 26 classes.\n",
      "Found 7800 images belonging to 26 classes.\n"
     ]
    }
   ],
   "source": [
    "train_batches = ImageDataGenerator().flow_from_directory(train_path, target_size=(224,224), classes=['A', 'B', 'C', 'D', 'E', 'F', 'G', 'H', 'I', 'K', 'L', 'M', 'N', 'O', 'P', 'Q', 'R', 'S', 'T', 'U', 'V', 'W', 'X', 'Y', 'del', 'space'], batch_size=10)\n",
    "valid_batches = ImageDataGenerator().flow_from_directory(valid_path, target_size=(224,224), classes=['A', 'B', 'C', 'D', 'E', 'F', 'G', 'H', 'I', 'K', 'L', 'M', 'N', 'O', 'P', 'Q', 'R', 'S', 'T', 'U', 'V', 'W', 'X', 'Y', 'del', 'space'], batch_size=10)\n",
    "test_batches = ImageDataGenerator().flow_from_directory(test_path, target_size=(224,224), classes=['A', 'B', 'C', 'D', 'E', 'F', 'G', 'H', 'I', 'K', 'L', 'M', 'N', 'O', 'P', 'Q', 'R', 'S', 'T', 'U', 'V', 'W', 'X', 'Y', 'del', 'space'], batch_size=10, shuffle=False)"
   ]
  },
  {
   "cell_type": "code",
   "execution_count": 16,
   "metadata": {},
   "outputs": [],
   "source": [
    "#plots images with labels within jupyter notebook\n",
    "def plots(ims, figsize=(12,6), rows=1, interp=False, titles=None):\n",
    "    if type(ims[0]) is np.ndarray:\n",
    "        ims = np.array(ims).astype(np.uint8)\n",
    "        if (ims.shape[-1] != 3):\n",
    "            ims = ims.transpose((0,2,3,1))\n",
    "    f = plt.figure(figsize=figsize)\n",
    "    cols = len(ims)//rows if len(ims) % 2 == 0 else len(ims)//rows + 1\n",
    "    for i in range(len(ims)):\n",
    "        sp = f.add_subplot(rows, cols, i+1)\n",
    "        sp.axis('off')\n",
    "        if titles is not None:\n",
    "            sp.set_title(titles[i], fontsize=16)\n",
    "        plt.imshow(ims[i], interpolation=None if interp else 'none')"
   ]
  },
  {
   "cell_type": "code",
   "execution_count": 17,
   "metadata": {},
   "outputs": [],
   "source": [
    "(imgs, labels) = next(train_batches)"
   ]
  },
  {
   "cell_type": "code",
   "execution_count": 18,
   "metadata": {},
   "outputs": [
    {
     "name": "stderr",
     "output_type": "stream",
     "text": [
      "/home/dhanashree/MyFolder/Dev/video_classification/lib/python3.5/site-packages/matplotlib/text.py:1191: FutureWarning: elementwise comparison failed; returning scalar instead, but in the future will perform elementwise comparison\n",
      "  if s != self._text:\n"
     ]
    },
    {
     "data": {
      "image/png": "[encoded data removed]",
      "text/plain": [
       "<Figure size 864x432 with 10 Axes>"
      ]
     },
     "metadata": {
      "needs_background": "light"
     },
     "output_type": "display_data"
    }
   ],
   "source": [
    "plots(imgs, titles=labels)"
   ]
  },
  {
   "cell_type": "markdown",
   "metadata": {},
   "source": [
    "## Build Fine-tuned VGG16 model"
   ]
  },
  {
   "cell_type": "code",
   "execution_count": 19,
   "metadata": {},
   "outputs": [
    {
     "name": "stdout",
     "output_type": "stream",
     "text": [
      "WARNING:tensorflow:From /home/renupaturkar1234/alphabets/lib/python3.5/site-packages/tensorflow/python/ops/resource_variable_ops.py:435: colocate_with (from tensorflow.python.framework.ops) is deprecated and will be removed in a future version.\n",
      "Instructions for updating:\n",
      "Colocations handled automatically by placer.\n"
     ]
    }
   ],
   "source": [
    "vgg16_model = keras.applications.vgg16.VGG16()"
   ]
  },
  {
   "cell_type": "code",
   "execution_count": 20,
   "metadata": {
    "scrolled": true
   },
   "outputs": [
    {
     "name": "stdout",
     "output_type": "stream",
     "text": [
      "Model: \"vgg16\"\n",
      "_________________________________________________________________\n",
      "Layer (type)                 Output Shape              Param #   \n",
      "=================================================================\n",
      "input_1 (InputLayer)         (None, 224, 224, 3)       0         \n",
      "_________________________________________________________________\n",
      "block1_conv1 (Conv2D)        (None, 224, 224, 64)      1792      \n",
      "_________________________________________________________________\n",
      "block1_conv2 (Conv2D)        (None, 224, 224, 64)      36928     \n",
      "_________________________________________________________________\n",
      "block1_pool (MaxPooling2D)   (None, 112, 112, 64)      0         \n",
      "_________________________________________________________________\n",
      "block2_conv1 (Conv2D)        (None, 112, 112, 128)     73856     \n",
      "_________________________________________________________________\n",
      "block2_conv2 (Conv2D)        (None, 112, 112, 128)     147584    \n",
      "_________________________________________________________________\n",
      "block2_pool (MaxPooling2D)   (None, 56, 56, 128)       0         \n",
      "_________________________________________________________________\n",
      "block3_conv1 (Conv2D)        (None, 56, 56, 256)       295168    \n",
      "_________________________________________________________________\n",
      "block3_conv2 (Conv2D)        (None, 56, 56, 256)       590080    \n",
      "_________________________________________________________________\n",
      "block3_conv3 (Conv2D)        (None, 56, 56, 256)       590080    \n",
      "_________________________________________________________________\n",
      "block3_pool (MaxPooling2D)   (None, 28, 28, 256)       0         \n",
      "_________________________________________________________________\n",
      "block4_conv1 (Conv2D)        (None, 28, 28, 512)       1180160   \n",
      "_________________________________________________________________\n",
      "block4_conv2 (Conv2D)        (None, 28, 28, 512)       2359808   \n",
      "_________________________________________________________________\n",
      "block4_conv3 (Conv2D)        (None, 28, 28, 512)       2359808   \n",
      "_________________________________________________________________\n",
      "block4_pool (MaxPooling2D)   (None, 14, 14, 512)       0         \n",
      "_________________________________________________________________\n",
      "block5_conv1 (Conv2D)        (None, 14, 14, 512)       2359808   \n",
      "_________________________________________________________________\n",
      "block5_conv2 (Conv2D)        (None, 14, 14, 512)       2359808   \n",
      "_________________________________________________________________\n",
      "block5_conv3 (Conv2D)        (None, 14, 14, 512)       2359808   \n",
      "_________________________________________________________________\n",
      "block5_pool (MaxPooling2D)   (None, 7, 7, 512)         0         \n",
      "_________________________________________________________________\n",
      "flatten (Flatten)            (None, 25088)             0         \n",
      "_________________________________________________________________\n",
      "fc1 (Dense)                  (None, 4096)              102764544 \n",
      "_________________________________________________________________\n",
      "fc2 (Dense)                  (None, 4096)              16781312  \n",
      "_________________________________________________________________\n",
      "predictions (Dense)          (None, 1000)              4097000   \n",
      "=================================================================\n",
      "Total params: 138,357,544\n",
      "Trainable params: 138,357,544\n",
      "Non-trainable params: 0\n",
      "_________________________________________________________________\n"
     ]
    }
   ],
   "source": [
    "vgg16_model.summary()"
   ]
  },
  {
   "cell_type": "code",
   "execution_count": 21,
   "metadata": {},
   "outputs": [
    {
     "data": {
      "text/plain": [
       "keras.engine.training.Model"
      ]
     },
     "execution_count": 21,
     "metadata": {},
     "output_type": "execute_result"
    }
   ],
   "source": [
    "type(vgg16_model)"
   ]
  },
  {
   "cell_type": "code",
   "execution_count": 22,
   "metadata": {},
   "outputs": [
    {
     "data": {
      "text/plain": [
       "<keras.layers.core.Dense at 0x7fec4c474cf8>"
      ]
     },
     "execution_count": 22,
     "metadata": {},
     "output_type": "execute_result"
    }
   ],
   "source": [
    "vgg16_model.layers.pop()"
   ]
  },
  {
   "cell_type": "code",
   "execution_count": 23,
   "metadata": {},
   "outputs": [],
   "source": [
    "# vgg16_model.outputs = [vgg16_model.layers[-6].output]\n",
    "vgg16_model.layers[-1].outbound_nodes = []\n",
    "#vgg16_model.add(Dense(26, activation='softmax'))"
   ]
  },
  {
   "cell_type": "markdown",
   "metadata": {},
   "source": [
    "### converted keras.engine.training.Model type to Sequential"
   ]
  },
  {
   "cell_type": "code",
   "execution_count": 24,
   "metadata": {},
   "outputs": [],
   "source": [
    "model = Sequential()\n",
    "for layer in vgg16_model.layers:\n",
    "    model.add(layer)"
   ]
  },
  {
   "cell_type": "code",
   "execution_count": 25,
   "metadata": {
    "scrolled": true
   },
   "outputs": [
    {
     "name": "stdout",
     "output_type": "stream",
     "text": [
      "Model: \"sequential_1\"\n",
      "_________________________________________________________________\n",
      "Layer (type)                 Output Shape              Param #   \n",
      "=================================================================\n",
      "block1_conv1 (Conv2D)        (None, 224, 224, 64)      1792      \n",
      "_________________________________________________________________\n",
      "block1_conv2 (Conv2D)        (None, 224, 224, 64)      36928     \n",
      "_________________________________________________________________\n",
      "block1_pool (MaxPooling2D)   (None, 112, 112, 64)      0         \n",
      "_________________________________________________________________\n",
      "block2_conv1 (Conv2D)        (None, 112, 112, 128)     73856     \n",
      "_________________________________________________________________\n",
      "block2_conv2 (Conv2D)        (None, 112, 112, 128)     147584    \n",
      "_________________________________________________________________\n",
      "block2_pool (MaxPooling2D)   (None, 56, 56, 128)       0         \n",
      "_________________________________________________________________\n",
      "block3_conv1 (Conv2D)        (None, 56, 56, 256)       295168    \n",
      "_________________________________________________________________\n",
      "block3_conv2 (Conv2D)        (None, 56, 56, 256)       590080    \n",
      "_________________________________________________________________\n",
      "block3_conv3 (Conv2D)        (None, 56, 56, 256)       590080    \n",
      "_________________________________________________________________\n",
      "block3_pool (MaxPooling2D)   (None, 28, 28, 256)       0         \n",
      "_________________________________________________________________\n",
      "block4_conv1 (Conv2D)        (None, 28, 28, 512)       1180160   \n",
      "_________________________________________________________________\n",
      "block4_conv2 (Conv2D)        (None, 28, 28, 512)       2359808   \n",
      "_________________________________________________________________\n",
      "block4_conv3 (Conv2D)        (None, 28, 28, 512)       2359808   \n",
      "_________________________________________________________________\n",
      "block4_pool (MaxPooling2D)   (None, 14, 14, 512)       0         \n",
      "_________________________________________________________________\n",
      "block5_conv1 (Conv2D)        (None, 14, 14, 512)       2359808   \n",
      "_________________________________________________________________\n",
      "block5_conv2 (Conv2D)        (None, 14, 14, 512)       2359808   \n",
      "_________________________________________________________________\n",
      "block5_conv3 (Conv2D)        (None, 14, 14, 512)       2359808   \n",
      "_________________________________________________________________\n",
      "block5_pool (MaxPooling2D)   (None, 7, 7, 512)         0         \n",
      "_________________________________________________________________\n",
      "flatten (Flatten)            (None, 25088)             0         \n",
      "_________________________________________________________________\n",
      "fc1 (Dense)                  (None, 4096)              102764544 \n",
      "_________________________________________________________________\n",
      "fc2 (Dense)                  (None, 4096)              16781312  \n",
      "=================================================================\n",
      "Total params: 134,260,544\n",
      "Trainable params: 134,260,544\n",
      "Non-trainable params: 0\n",
      "_________________________________________________________________\n"
     ]
    }
   ],
   "source": [
    "model.summary()"
   ]
  },
  {
   "cell_type": "code",
   "execution_count": 26,
   "metadata": {},
   "outputs": [
    {
     "data": {
      "text/plain": [
       "keras.engine.sequential.Sequential"
      ]
     },
     "execution_count": 26,
     "metadata": {},
     "output_type": "execute_result"
    }
   ],
   "source": [
    "type(model)"
   ]
  },
  {
   "cell_type": "markdown",
   "metadata": {},
   "source": [
    "### keep all the weights of trained model as it is...dont change it"
   ]
  },
  {
   "cell_type": "code",
   "execution_count": 27,
   "metadata": {},
   "outputs": [],
   "source": [
    "# for layer in model.layers[:-18]:\n",
    "#     layer.trainable = False"
   ]
  },
  {
   "cell_type": "code",
   "execution_count": 28,
   "metadata": {},
   "outputs": [],
   "source": [
    "model.add(Dense(26, activation='softmax'))"
   ]
  },
  {
   "cell_type": "code",
   "execution_count": 29,
   "metadata": {
    "scrolled": false
   },
   "outputs": [
    {
     "name": "stdout",
     "output_type": "stream",
     "text": [
      "Model: \"sequential_1\"\n",
      "_________________________________________________________________\n",
      "Layer (type)                 Output Shape              Param #   \n",
      "=================================================================\n",
      "block1_conv1 (Conv2D)        (None, 224, 224, 64)      1792      \n",
      "_________________________________________________________________\n",
      "block1_conv2 (Conv2D)        (None, 224, 224, 64)      36928     \n",
      "_________________________________________________________________\n",
      "block1_pool (MaxPooling2D)   (None, 112, 112, 64)      0         \n",
      "_________________________________________________________________\n",
      "block2_conv1 (Conv2D)        (None, 112, 112, 128)     73856     \n",
      "_________________________________________________________________\n",
      "block2_conv2 (Conv2D)        (None, 112, 112, 128)     147584    \n",
      "_________________________________________________________________\n",
      "block2_pool (MaxPooling2D)   (None, 56, 56, 128)       0         \n",
      "_________________________________________________________________\n",
      "block3_conv1 (Conv2D)        (None, 56, 56, 256)       295168    \n",
      "_________________________________________________________________\n",
      "block3_conv2 (Conv2D)        (None, 56, 56, 256)       590080    \n",
      "_________________________________________________________________\n",
      "block3_conv3 (Conv2D)        (None, 56, 56, 256)       590080    \n",
      "_________________________________________________________________\n",
      "block3_pool (MaxPooling2D)   (None, 28, 28, 256)       0         \n",
      "_________________________________________________________________\n",
      "block4_conv1 (Conv2D)        (None, 28, 28, 512)       1180160   \n",
      "_________________________________________________________________\n",
      "block4_conv2 (Conv2D)        (None, 28, 28, 512)       2359808   \n",
      "_________________________________________________________________\n",
      "block4_conv3 (Conv2D)        (None, 28, 28, 512)       2359808   \n",
      "_________________________________________________________________\n",
      "block4_pool (MaxPooling2D)   (None, 14, 14, 512)       0         \n",
      "_________________________________________________________________\n",
      "block5_conv1 (Conv2D)        (None, 14, 14, 512)       2359808   \n",
      "_________________________________________________________________\n",
      "block5_conv2 (Conv2D)        (None, 14, 14, 512)       2359808   \n",
      "_________________________________________________________________\n",
      "block5_conv3 (Conv2D)        (None, 14, 14, 512)       2359808   \n",
      "_________________________________________________________________\n",
      "block5_pool (MaxPooling2D)   (None, 7, 7, 512)         0         \n",
      "_________________________________________________________________\n",
      "flatten (Flatten)            (None, 25088)             0         \n",
      "_________________________________________________________________\n",
      "fc1 (Dense)                  (None, 4096)              102764544 \n",
      "_________________________________________________________________\n",
      "fc2 (Dense)                  (None, 4096)              16781312  \n",
      "_________________________________________________________________\n",
      "dense_1 (Dense)              (None, 26)                106522    \n",
      "=================================================================\n",
      "Total params: 134,367,066\n",
      "Trainable params: 134,328,346\n",
      "Non-trainable params: 38,720\n",
      "_________________________________________________________________\n"
     ]
    }
   ],
   "source": [
    "model.summary()"
   ]
  },
  {
   "cell_type": "code",
   "execution_count": 61,
   "metadata": {},
   "outputs": [],
   "source": [
    "from keras import backend as K\n",
    "\n",
    "def recall_m(y_true, y_pred):\n",
    "    true_positives = K.sum(K.round(K.clip(y_true * y_pred, 0, 1)))\n",
    "    possible_positives = K.sum(K.round(K.clip(y_true, 0, 1)))\n",
    "    recall = true_positives / (possible_positives + K.epsilon())\n",
    "    return recall\n",
    "\n",
    "def precision_m(y_true, y_pred):\n",
    "    true_positives = K.sum(K.round(K.clip(y_true * y_pred, 0, 1)))\n",
    "    predicted_positives = K.sum(K.round(K.clip(y_pred, 0, 1)))\n",
    "    precision = true_positives / (predicted_positives + K.epsilon())\n",
    "    return precision\n",
    "\n",
    "def f1_m(y_true, y_pred):\n",
    "    precision = precision_m(y_true, y_pred)\n",
    "    recall = recall_m(y_true, y_pred)\n",
    "    return 2*((precision*recall)/(precision+recall+K.epsilon()))\n",
    "\n",
    "model.compile(Adam(lr=.0001), loss='categorical_crossentropy', metrics=['accuracy', f1_m, precision_m, recall_m])"
   ]
  },
  {
   "cell_type": "code",
   "execution_count": 31,
   "metadata": {},
   "outputs": [],
   "source": [
    "# import tensorflow.compat.v1 as tf\n",
    "# tf.disable_v2_behavior()\n",
    "\n",
    "# config = tf.ConfigProto()\n",
    "# config.gpu_options.allow_growth = True\n",
    "# sess = tf.Session(config=config)"
   ]
  },
  {
   "cell_type": "code",
   "execution_count": 32,
   "metadata": {},
   "outputs": [],
   "source": [
    "session = keras.backend.get_session()\n",
    "init = tf.global_variables_initializer()\n",
    "session.run(init)"
   ]
  },
  {
   "cell_type": "code",
   "execution_count": 33,
   "metadata": {},
   "outputs": [],
   "source": [
    "from tensorflow.python.keras.backend import set_session\n",
    "from tensorflow.python.keras.models import load_model\n",
    "#tf_config = some_custom_config\n",
    "config = tf.compat.v1.ConfigProto()\n",
    "sess = tf.compat.v1.Session(config=config)\n",
    "graph = tf.compat.v1.get_default_graph()\n",
    "\n",
    "# IMPORTANT: models have to be loaded AFTER SETTING THE SESSION for keras! \n",
    "# Otherwise, their weights will be unavailable in the threads after the session there has been set\n",
    "set_session(sess)"
   ]
  },
  {
   "cell_type": "code",
   "execution_count": 34,
   "metadata": {},
   "outputs": [],
   "source": [
    "# import tensorflow as tf\n",
    "# gpu_devices = tf.config.experimental.list_physical_devices('GPU')\n",
    "# for device in gpu_devices: tf.config.experimental.set_memory_growth(device, True)"
   ]
  },
  {
   "cell_type": "code",
   "execution_count": 35,
   "metadata": {},
   "outputs": [],
   "source": [
    "import tensorflow as tf\n",
    "from tensorflow.compat.v1 import InteractiveSession\n",
    "config = tf.compat.v1.ConfigProto()\n",
    "config.gpu_options.allow_growth = True\n",
    "session = InteractiveSession(config=config)"
   ]
  },
  {
   "cell_type": "code",
   "execution_count": 36,
   "metadata": {},
   "outputs": [],
   "source": [
    "# physical_devices = tf.config.experimental.list_physical_devices('GPU')\n",
    "# assert len(physical_devices) > 0, \"Not enough GPU hardware devices available\"\n",
    "# config = tf.config.experimental.set_memory_growth(physical_devices[0], True)"
   ]
  },
  {
   "cell_type": "code",
   "execution_count": 37,
   "metadata": {},
   "outputs": [],
   "source": [
    "config = tf.compat.v1.ConfigProto()\n",
    "config.gpu_options.allow_growth = True\n",
    "config.gpu_options.per_process_gpu_memory_fraction = 0.5\n",
    "sess = tf.compat.v1.Session(config=config)\n",
    "tf.compat.v1.keras.backend.set_session(tf.compat.v1.Session(config=config))"
   ]
  },
  {
   "cell_type": "code",
   "execution_count": 38,
   "metadata": {},
   "outputs": [],
   "source": [
    "from tensorflow.python.keras.backend import set_session\n",
    "from tensorflow.python.keras.models import load_model\n",
    "\n",
    "tf_config = tf.compat.v1.ConfigProto()\n",
    "sess = tf.Session(config=tf_config)\n",
    "graph = tf.get_default_graph()"
   ]
  },
  {
   "cell_type": "code",
   "execution_count": 39,
   "metadata": {},
   "outputs": [],
   "source": [
    "session = keras.backend.get_session()\n",
    "init = tf.global_variables_initializer()\n",
    "session.run(init)"
   ]
  },
  {
   "cell_type": "code",
   "execution_count": 40,
   "metadata": {},
   "outputs": [],
   "source": [
    "# from __future__ import absolute_import, division, print_function, unicode_literals\n",
    "\n",
    "# import tensorflow as tf\n",
    "# print(\"Num GPUs Available: \", len(tf.compat.v1.config.experimental.list_physical_devices('GPU')))"
   ]
  },
  {
   "cell_type": "code",
   "execution_count": 41,
   "metadata": {
    "scrolled": true
   },
   "outputs": [
    {
     "name": "stdout",
     "output_type": "stream",
     "text": [
      "WARNING:tensorflow:From /home/renupaturkar1234/alphabets/lib/python3.5/site-packages/tensorflow/python/ops/math_ops.py:3066: to_int32 (from tensorflow.python.ops.math_ops) is deprecated and will be removed in a future version.\n",
      "Instructions for updating:\n",
      "Use tf.cast instead.\n",
      "Epoch 1/100\n",
      " - 52s - loss: 3.2903 - accuracy: 0.0400 - f1_m: 0.0000e+00 - precision_m: 0.0000e+00 - recall_m: 0.0000e+00 - val_loss: 3.2549 - val_accuracy: 0.0500 - val_f1_m: 0.0000e+00 - val_precision_m: 0.0000e+00 - val_recall_m: 0.0000e+00\n",
      "Epoch 2/100\n",
      " - 48s - loss: 3.2411 - accuracy: 0.0500 - f1_m: 0.0000e+00 - precision_m: 0.0000e+00 - recall_m: 0.0000e+00 - val_loss: 3.0365 - val_accuracy: 0.0500 - val_f1_m: 0.0000e+00 - val_precision_m: 0.0000e+00 - val_recall_m: 0.0000e+00\n",
      "Epoch 3/100\n",
      " - 48s - loss: 3.0263 - accuracy: 0.1250 - f1_m: 0.0293 - precision_m: 0.1217 - recall_m: 0.0170 - val_loss: 3.1701 - val_accuracy: 0.0500 - val_f1_m: 0.0000e+00 - val_precision_m: 0.0000e+00 - val_recall_m: 0.0000e+00\n",
      "Epoch 4/100\n",
      " - 48s - loss: 2.7269 - accuracy: 0.1640 - f1_m: 0.0906 - precision_m: 0.3700 - recall_m: 0.0530 - val_loss: 2.2147 - val_accuracy: 0.1500 - val_f1_m: 0.1420 - val_precision_m: 0.4250 - val_recall_m: 0.0900\n",
      "Epoch 5/100\n",
      " - 48s - loss: 2.3662 - accuracy: 0.2680 - f1_m: 0.1569 - precision_m: 0.4575 - recall_m: 0.1000 - val_loss: 3.7079 - val_accuracy: 0.2700 - val_f1_m: 0.2361 - val_precision_m: 0.5267 - val_recall_m: 0.1600\n",
      "Epoch 6/100\n",
      " - 48s - loss: 1.9899 - accuracy: 0.3630 - f1_m: 0.2558 - precision_m: 0.6120 - recall_m: 0.1720 - val_loss: 1.5332 - val_accuracy: 0.4200 - val_f1_m: 0.3482 - val_precision_m: 0.6750 - val_recall_m: 0.2400\n",
      "Epoch 7/100\n",
      " - 48s - loss: 1.5598 - accuracy: 0.4990 - f1_m: 0.4292 - precision_m: 0.7668 - recall_m: 0.3150 - val_loss: 1.8888 - val_accuracy: 0.6300 - val_f1_m: 0.5423 - val_precision_m: 0.7681 - val_recall_m: 0.4400\n",
      "Epoch 8/100\n",
      " - 48s - loss: 1.4048 - accuracy: 0.5240 - f1_m: 0.4768 - precision_m: 0.7569 - recall_m: 0.3700 - val_loss: 1.8328 - val_accuracy: 0.5200 - val_f1_m: 0.4464 - val_precision_m: 0.6094 - val_recall_m: 0.3600\n",
      "Epoch 9/100\n",
      " - 48s - loss: 1.1861 - accuracy: 0.6010 - f1_m: 0.5737 - precision_m: 0.7928 - recall_m: 0.4650 - val_loss: 1.6107 - val_accuracy: 0.5600 - val_f1_m: 0.5838 - val_precision_m: 0.6975 - val_recall_m: 0.5200\n",
      "Epoch 10/100\n",
      " - 48s - loss: 1.0293 - accuracy: 0.6460 - f1_m: 0.6206 - precision_m: 0.8090 - recall_m: 0.5190 - val_loss: 1.0153 - val_accuracy: 0.6600 - val_f1_m: 0.6551 - val_precision_m: 0.7607 - val_recall_m: 0.5800\n",
      "Epoch 11/100\n",
      " - 48s - loss: 0.8799 - accuracy: 0.6940 - f1_m: 0.6861 - precision_m: 0.8255 - recall_m: 0.5980 - val_loss: 0.8134 - val_accuracy: 0.6800 - val_f1_m: 0.6678 - val_precision_m: 0.7637 - val_recall_m: 0.6000\n",
      "Epoch 12/100\n",
      " - 48s - loss: 0.8124 - accuracy: 0.7200 - f1_m: 0.7118 - precision_m: 0.8374 - recall_m: 0.6280 - val_loss: 0.3246 - val_accuracy: 0.7800 - val_f1_m: 0.7688 - val_precision_m: 0.8459 - val_recall_m: 0.7100\n",
      "Epoch 13/100\n",
      " - 48s - loss: 0.7132 - accuracy: 0.7540 - f1_m: 0.7419 - precision_m: 0.8350 - recall_m: 0.6760 - val_loss: 1.0964 - val_accuracy: 0.7400 - val_f1_m: 0.7158 - val_precision_m: 0.8056 - val_recall_m: 0.6500\n",
      "Epoch 14/100\n",
      " - 48s - loss: 0.6176 - accuracy: 0.7990 - f1_m: 0.7920 - precision_m: 0.8607 - recall_m: 0.7400 - val_loss: 1.3622 - val_accuracy: 0.8000 - val_f1_m: 0.8087 - val_precision_m: 0.8871 - val_recall_m: 0.7500\n",
      "Epoch 15/100\n",
      " - 48s - loss: 0.5486 - accuracy: 0.8150 - f1_m: 0.8088 - precision_m: 0.8798 - recall_m: 0.7530 - val_loss: 0.3860 - val_accuracy: 0.8400 - val_f1_m: 0.8195 - val_precision_m: 0.8817 - val_recall_m: 0.7700\n",
      "Epoch 16/100\n",
      " - 48s - loss: 0.5405 - accuracy: 0.8210 - f1_m: 0.8208 - precision_m: 0.8820 - recall_m: 0.7730 - val_loss: 0.6430 - val_accuracy: 0.8200 - val_f1_m: 0.8049 - val_precision_m: 0.8938 - val_recall_m: 0.7400\n",
      "Epoch 17/100\n",
      " - 48s - loss: 0.4814 - accuracy: 0.8250 - f1_m: 0.8306 - precision_m: 0.8883 - recall_m: 0.7840 - val_loss: 0.6258 - val_accuracy: 0.8400 - val_f1_m: 0.8642 - val_precision_m: 0.9194 - val_recall_m: 0.8200\n",
      "Epoch 18/100\n",
      " - 48s - loss: 0.4280 - accuracy: 0.8460 - f1_m: 0.8468 - precision_m: 0.8951 - recall_m: 0.8080 - val_loss: 0.0711 - val_accuracy: 0.8600 - val_f1_m: 0.8395 - val_precision_m: 0.9222 - val_recall_m: 0.7800\n",
      "Epoch 19/100\n",
      " - 48s - loss: 0.3336 - accuracy: 0.8820 - f1_m: 0.8850 - precision_m: 0.9170 - recall_m: 0.8580 - val_loss: 1.1064 - val_accuracy: 0.8300 - val_f1_m: 0.8274 - val_precision_m: 0.8356 - val_recall_m: 0.8200\n",
      "Epoch 20/100\n",
      " - 48s - loss: 0.3615 - accuracy: 0.8750 - f1_m: 0.8744 - precision_m: 0.9111 - recall_m: 0.8440 - val_loss: 0.3113 - val_accuracy: 0.8600 - val_f1_m: 0.8674 - val_precision_m: 0.8867 - val_recall_m: 0.8500\n",
      "Epoch 21/100\n",
      " - 48s - loss: 0.3676 - accuracy: 0.8740 - f1_m: 0.8669 - precision_m: 0.8957 - recall_m: 0.8430 - val_loss: 0.0756 - val_accuracy: 0.9700 - val_f1_m: 0.9532 - val_precision_m: 0.9789 - val_recall_m: 0.9300\n",
      "Epoch 22/100\n",
      " - 48s - loss: 0.3167 - accuracy: 0.8880 - f1_m: 0.8886 - precision_m: 0.9126 - recall_m: 0.8680 - val_loss: 0.0834 - val_accuracy: 0.9200 - val_f1_m: 0.9215 - val_precision_m: 0.9589 - val_recall_m: 0.8900\n",
      "Epoch 23/100\n",
      " - 48s - loss: 0.2838 - accuracy: 0.8930 - f1_m: 0.8917 - precision_m: 0.9222 - recall_m: 0.8660 - val_loss: 0.0096 - val_accuracy: 0.9400 - val_f1_m: 0.9373 - val_precision_m: 0.9578 - val_recall_m: 0.9200\n",
      "Epoch 24/100\n",
      " - 48s - loss: 0.2061 - accuracy: 0.9290 - f1_m: 0.9314 - precision_m: 0.9470 - recall_m: 0.9180 - val_loss: 0.1002 - val_accuracy: 0.9100 - val_f1_m: 0.9026 - val_precision_m: 0.9289 - val_recall_m: 0.8800\n",
      "Epoch 25/100\n",
      " - 48s - loss: 0.2909 - accuracy: 0.9040 - f1_m: 0.9049 - precision_m: 0.9264 - recall_m: 0.8870 - val_loss: 0.1409 - val_accuracy: 0.9500 - val_f1_m: 0.9426 - val_precision_m: 0.9800 - val_recall_m: 0.9100\n",
      "Epoch 26/100\n",
      " - 48s - loss: 0.2212 - accuracy: 0.9170 - f1_m: 0.9210 - precision_m: 0.9338 - recall_m: 0.9100 - val_loss: 0.1730 - val_accuracy: 0.9100 - val_f1_m: 0.9142 - val_precision_m: 0.9300 - val_recall_m: 0.9000\n",
      "Epoch 27/100\n",
      " - 48s - loss: 0.3286 - accuracy: 0.8940 - f1_m: 0.8947 - precision_m: 0.9230 - recall_m: 0.8710 - val_loss: 1.1575 - val_accuracy: 0.8600 - val_f1_m: 0.8699 - val_precision_m: 0.9056 - val_recall_m: 0.8400\n",
      "Epoch 28/100\n",
      " - 48s - loss: 0.2554 - accuracy: 0.9150 - f1_m: 0.9152 - precision_m: 0.9411 - recall_m: 0.8930 - val_loss: 0.0029 - val_accuracy: 0.9600 - val_f1_m: 0.9636 - val_precision_m: 0.9800 - val_recall_m: 0.9500\n",
      "Epoch 29/100\n",
      " - 48s - loss: 0.2020 - accuracy: 0.9300 - f1_m: 0.9255 - precision_m: 0.9373 - recall_m: 0.9150 - val_loss: 0.0928 - val_accuracy: 0.9300 - val_f1_m: 0.9221 - val_precision_m: 0.9356 - val_recall_m: 0.9100\n",
      "Epoch 30/100\n",
      " - 48s - loss: 0.1797 - accuracy: 0.9450 - f1_m: 0.9425 - precision_m: 0.9524 - recall_m: 0.9340 - val_loss: 0.3214 - val_accuracy: 0.9200 - val_f1_m: 0.9220 - val_precision_m: 0.9478 - val_recall_m: 0.9000\n",
      "Epoch 31/100\n",
      " - 48s - loss: 0.2082 - accuracy: 0.9350 - f1_m: 0.9362 - precision_m: 0.9526 - recall_m: 0.9220 - val_loss: 0.0800 - val_accuracy: 0.9600 - val_f1_m: 0.9495 - val_precision_m: 0.9600 - val_recall_m: 0.9400\n",
      "Epoch 32/100\n",
      " - 48s - loss: 0.2019 - accuracy: 0.9350 - f1_m: 0.9296 - precision_m: 0.9416 - recall_m: 0.9190 - val_loss: 0.0658 - val_accuracy: 0.9600 - val_f1_m: 0.9642 - val_precision_m: 0.9800 - val_recall_m: 0.9500\n",
      "Epoch 33/100\n",
      " - 48s - loss: 0.1489 - accuracy: 0.9470 - f1_m: 0.9536 - precision_m: 0.9667 - recall_m: 0.9420 - val_loss: 6.4916e-04 - val_accuracy: 0.9800 - val_f1_m: 0.9800 - val_precision_m: 0.9800 - val_recall_m: 0.9800\n",
      "Epoch 34/100\n",
      " - 48s - loss: 0.1793 - accuracy: 0.9430 - f1_m: 0.9428 - precision_m: 0.9576 - recall_m: 0.9300 - val_loss: 0.0672 - val_accuracy: 0.9700 - val_f1_m: 0.9742 - val_precision_m: 0.9900 - val_recall_m: 0.9600\n",
      "Epoch 35/100\n",
      " - 48s - loss: 0.1808 - accuracy: 0.9430 - f1_m: 0.9433 - precision_m: 0.9562 - recall_m: 0.9320 - val_loss: 0.0473 - val_accuracy: 0.9700 - val_f1_m: 0.9647 - val_precision_m: 0.9700 - val_recall_m: 0.9600\n",
      "Epoch 36/100\n",
      " - 48s - loss: 0.1161 - accuracy: 0.9570 - f1_m: 0.9574 - precision_m: 0.9634 - recall_m: 0.9520 - val_loss: 0.1307 - val_accuracy: 0.9300 - val_f1_m: 0.9295 - val_precision_m: 0.9400 - val_recall_m: 0.9200\n"
     ]
    },
    {
     "name": "stdout",
     "output_type": "stream",
     "text": [
      "Epoch 37/100\n",
      " - 48s - loss: 0.2241 - accuracy: 0.9260 - f1_m: 0.9224 - precision_m: 0.9356 - recall_m: 0.9110 - val_loss: 0.1893 - val_accuracy: 0.9600 - val_f1_m: 0.9542 - val_precision_m: 0.9589 - val_recall_m: 0.9500\n",
      "Epoch 38/100\n",
      " - 48s - loss: 0.1890 - accuracy: 0.9330 - f1_m: 0.9334 - precision_m: 0.9451 - recall_m: 0.9230 - val_loss: 0.0215 - val_accuracy: 0.9300 - val_f1_m: 0.9384 - val_precision_m: 0.9478 - val_recall_m: 0.9300\n",
      "Epoch 39/100\n",
      " - 48s - loss: 0.1939 - accuracy: 0.9420 - f1_m: 0.9418 - precision_m: 0.9518 - recall_m: 0.9330 - val_loss: 0.0833 - val_accuracy: 0.9500 - val_f1_m: 0.9526 - val_precision_m: 0.9667 - val_recall_m: 0.9400\n",
      "Epoch 40/100\n",
      " - 48s - loss: 0.1476 - accuracy: 0.9510 - f1_m: 0.9498 - precision_m: 0.9597 - recall_m: 0.9410 - val_loss: 0.0206 - val_accuracy: 0.9500 - val_f1_m: 0.9379 - val_precision_m: 0.9467 - val_recall_m: 0.9300\n",
      "Epoch 41/100\n",
      " - 48s - loss: 0.1415 - accuracy: 0.9570 - f1_m: 0.9593 - precision_m: 0.9666 - recall_m: 0.9530 - val_loss: 0.0213 - val_accuracy: 0.9700 - val_f1_m: 0.9747 - val_precision_m: 0.9800 - val_recall_m: 0.9700\n",
      "Epoch 42/100\n",
      " - 48s - loss: 0.1382 - accuracy: 0.9560 - f1_m: 0.9565 - precision_m: 0.9627 - recall_m: 0.9510 - val_loss: 7.6182e-04 - val_accuracy: 0.9600 - val_f1_m: 0.9595 - val_precision_m: 0.9700 - val_recall_m: 0.9500\n",
      "Epoch 43/100\n",
      " - 48s - loss: 0.1260 - accuracy: 0.9640 - f1_m: 0.9658 - precision_m: 0.9736 - recall_m: 0.9590 - val_loss: 0.0195 - val_accuracy: 0.9800 - val_f1_m: 0.9800 - val_precision_m: 0.9800 - val_recall_m: 0.9800\n",
      "Epoch 44/100\n",
      " - 48s - loss: 0.0736 - accuracy: 0.9730 - f1_m: 0.9743 - precision_m: 0.9780 - recall_m: 0.9710 - val_loss: 0.0343 - val_accuracy: 1.0000 - val_f1_m: 1.0000 - val_precision_m: 1.0000 - val_recall_m: 1.0000\n",
      "Epoch 45/100\n",
      " - 48s - loss: 0.0705 - accuracy: 0.9760 - f1_m: 0.9754 - precision_m: 0.9769 - recall_m: 0.9740 - val_loss: 0.0358 - val_accuracy: 0.9700 - val_f1_m: 0.9695 - val_precision_m: 0.9800 - val_recall_m: 0.9600\n",
      "Epoch 46/100\n",
      " - 48s - loss: 0.1160 - accuracy: 0.9640 - f1_m: 0.9649 - precision_m: 0.9717 - recall_m: 0.9590 - val_loss: 0.0975 - val_accuracy: 0.9800 - val_f1_m: 0.9742 - val_precision_m: 0.9900 - val_recall_m: 0.9600\n",
      "Epoch 47/100\n",
      " - 48s - loss: 0.1591 - accuracy: 0.9480 - f1_m: 0.9520 - precision_m: 0.9622 - recall_m: 0.9430 - val_loss: 0.0639 - val_accuracy: 0.9700 - val_f1_m: 0.9637 - val_precision_m: 0.9789 - val_recall_m: 0.9500\n",
      "Epoch 48/100\n",
      " - 48s - loss: 0.0826 - accuracy: 0.9740 - f1_m: 0.9727 - precision_m: 0.9769 - recall_m: 0.9690 - val_loss: 0.0136 - val_accuracy: 0.9800 - val_f1_m: 0.9800 - val_precision_m: 0.9800 - val_recall_m: 0.9800\n",
      "Epoch 49/100\n",
      " - 48s - loss: 0.0688 - accuracy: 0.9840 - f1_m: 0.9833 - precision_m: 0.9869 - recall_m: 0.9800 - val_loss: 0.0319 - val_accuracy: 0.9800 - val_f1_m: 0.9747 - val_precision_m: 0.9800 - val_recall_m: 0.9700\n",
      "Epoch 50/100\n",
      " - 48s - loss: 0.1270 - accuracy: 0.9680 - f1_m: 0.9675 - precision_m: 0.9727 - recall_m: 0.9630 - val_loss: 0.0078 - val_accuracy: 0.9600 - val_f1_m: 0.9647 - val_precision_m: 0.9700 - val_recall_m: 0.9600\n",
      "Epoch 51/100\n",
      " - 48s - loss: 0.0611 - accuracy: 0.9790 - f1_m: 0.9799 - precision_m: 0.9820 - recall_m: 0.9780 - val_loss: 0.0080 - val_accuracy: 0.9800 - val_f1_m: 0.9800 - val_precision_m: 0.9800 - val_recall_m: 0.9800\n",
      "Epoch 52/100\n",
      " - 48s - loss: 0.1335 - accuracy: 0.9610 - f1_m: 0.9595 - precision_m: 0.9622 - recall_m: 0.9570 - val_loss: 0.0227 - val_accuracy: 0.9900 - val_f1_m: 0.9947 - val_precision_m: 1.0000 - val_recall_m: 0.9900\n",
      "Epoch 53/100\n",
      " - 48s - loss: 0.0485 - accuracy: 0.9830 - f1_m: 0.9824 - precision_m: 0.9840 - recall_m: 0.9810 - val_loss: 0.0661 - val_accuracy: 0.9900 - val_f1_m: 0.9947 - val_precision_m: 1.0000 - val_recall_m: 0.9900\n",
      "Epoch 54/100\n",
      " - 48s - loss: 0.1234 - accuracy: 0.9680 - f1_m: 0.9667 - precision_m: 0.9709 - recall_m: 0.9630 - val_loss: 0.3631 - val_accuracy: 0.9600 - val_f1_m: 0.9600 - val_precision_m: 0.9600 - val_recall_m: 0.9600\n",
      "Epoch 55/100\n",
      " - 48s - loss: 0.1705 - accuracy: 0.9560 - f1_m: 0.9570 - precision_m: 0.9659 - recall_m: 0.9490 - val_loss: 0.0212 - val_accuracy: 0.9500 - val_f1_m: 0.9547 - val_precision_m: 0.9600 - val_recall_m: 0.9500\n",
      "Epoch 56/100\n",
      " - 48s - loss: 0.1212 - accuracy: 0.9660 - f1_m: 0.9648 - precision_m: 0.9714 - recall_m: 0.9590 - val_loss: 0.0430 - val_accuracy: 0.9800 - val_f1_m: 0.9747 - val_precision_m: 0.9800 - val_recall_m: 0.9700\n",
      "Epoch 57/100\n",
      " - 48s - loss: 0.1107 - accuracy: 0.9600 - f1_m: 0.9617 - precision_m: 0.9659 - recall_m: 0.9580 - val_loss: 0.0419 - val_accuracy: 0.9800 - val_f1_m: 0.9847 - val_precision_m: 0.9900 - val_recall_m: 0.9800\n",
      "Epoch 58/100\n",
      " - 47s - loss: 0.0690 - accuracy: 0.9780 - f1_m: 0.9778 - precision_m: 0.9810 - recall_m: 0.9750 - val_loss: 0.0270 - val_accuracy: 0.9600 - val_f1_m: 0.9600 - val_precision_m: 0.9600 - val_recall_m: 0.9600\n",
      "Epoch 59/100\n",
      " - 48s - loss: 0.1365 - accuracy: 0.9550 - f1_m: 0.9522 - precision_m: 0.9568 - recall_m: 0.9480 - val_loss: 0.5267 - val_accuracy: 0.9500 - val_f1_m: 0.9547 - val_precision_m: 0.9600 - val_recall_m: 0.9500\n",
      "Epoch 60/100\n",
      " - 48s - loss: 0.0437 - accuracy: 0.9880 - f1_m: 0.9878 - precision_m: 0.9910 - recall_m: 0.9850 - val_loss: 3.5087e-04 - val_accuracy: 0.9700 - val_f1_m: 0.9700 - val_precision_m: 0.9700 - val_recall_m: 0.9700\n",
      "Epoch 61/100\n",
      " - 48s - loss: 0.0540 - accuracy: 0.9900 - f1_m: 0.9898 - precision_m: 0.9919 - recall_m: 0.9880 - val_loss: 0.0029 - val_accuracy: 0.9900 - val_f1_m: 0.9900 - val_precision_m: 0.9900 - val_recall_m: 0.9900\n",
      "Epoch 62/100\n",
      " - 48s - loss: 0.0990 - accuracy: 0.9720 - f1_m: 0.9737 - precision_m: 0.9779 - recall_m: 0.9700 - val_loss: 0.0031 - val_accuracy: 1.0000 - val_f1_m: 0.9947 - val_precision_m: 1.0000 - val_recall_m: 0.9900\n",
      "Epoch 63/100\n",
      " - 48s - loss: 0.0422 - accuracy: 0.9900 - f1_m: 0.9895 - precision_m: 0.9900 - recall_m: 0.9890 - val_loss: 0.0061 - val_accuracy: 0.9700 - val_f1_m: 0.9700 - val_precision_m: 0.9700 - val_recall_m: 0.9700\n",
      "Epoch 64/100\n",
      " - 48s - loss: 0.0432 - accuracy: 0.9860 - f1_m: 0.9868 - precision_m: 0.9889 - recall_m: 0.9850 - val_loss: 0.2630 - val_accuracy: 0.9700 - val_f1_m: 0.9700 - val_precision_m: 0.9700 - val_recall_m: 0.9700\n",
      "Epoch 65/100\n",
      " - 48s - loss: 0.1129 - accuracy: 0.9630 - f1_m: 0.9614 - precision_m: 0.9674 - recall_m: 0.9560 - val_loss: 0.0018 - val_accuracy: 0.9900 - val_f1_m: 0.9900 - val_precision_m: 0.9900 - val_recall_m: 0.9900\n",
      "Epoch 66/100\n",
      " - 48s - loss: 0.0868 - accuracy: 0.9720 - f1_m: 0.9714 - precision_m: 0.9730 - recall_m: 0.9700 - val_loss: 0.0290 - val_accuracy: 0.9900 - val_f1_m: 0.9900 - val_precision_m: 0.9900 - val_recall_m: 0.9900\n",
      "Epoch 67/100\n",
      " - 48s - loss: 0.0322 - accuracy: 0.9900 - f1_m: 0.9895 - precision_m: 0.9900 - recall_m: 0.9890 - val_loss: 2.0037e-04 - val_accuracy: 0.9700 - val_f1_m: 0.9700 - val_precision_m: 0.9700 - val_recall_m: 0.9700\n",
      "Epoch 68/100\n",
      " - 48s - loss: 0.0712 - accuracy: 0.9730 - f1_m: 0.9724 - precision_m: 0.9740 - recall_m: 0.9710 - val_loss: 0.0024 - val_accuracy: 0.9700 - val_f1_m: 0.9647 - val_precision_m: 0.9700 - val_recall_m: 0.9600\n",
      "Epoch 69/100\n",
      " - 48s - loss: 0.0501 - accuracy: 0.9870 - f1_m: 0.9873 - precision_m: 0.9899 - recall_m: 0.9850 - val_loss: 0.0928 - val_accuracy: 0.9900 - val_f1_m: 0.9900 - val_precision_m: 0.9900 - val_recall_m: 0.9900\n",
      "Epoch 70/100\n",
      " - 48s - loss: 0.0781 - accuracy: 0.9760 - f1_m: 0.9754 - precision_m: 0.9759 - recall_m: 0.9750 - val_loss: 0.0327 - val_accuracy: 1.0000 - val_f1_m: 1.0000 - val_precision_m: 1.0000 - val_recall_m: 1.0000\n",
      "Epoch 71/100\n",
      " - 48s - loss: 0.0521 - accuracy: 0.9840 - f1_m: 0.9839 - precision_m: 0.9850 - recall_m: 0.9830 - val_loss: 6.4171e-04 - val_accuracy: 0.9600 - val_f1_m: 0.9600 - val_precision_m: 0.9600 - val_recall_m: 0.9600\n",
      "Epoch 72/100\n",
      " - 48s - loss: 0.0787 - accuracy: 0.9740 - f1_m: 0.9734 - precision_m: 0.9760 - recall_m: 0.9710 - val_loss: 0.0778 - val_accuracy: 1.0000 - val_f1_m: 1.0000 - val_precision_m: 1.0000 - val_recall_m: 1.0000\n",
      "Epoch 73/100\n",
      " - 48s - loss: 0.0387 - accuracy: 0.9880 - f1_m: 0.9864 - precision_m: 0.9880 - recall_m: 0.9850 - val_loss: 0.1163 - val_accuracy: 0.9700 - val_f1_m: 0.9700 - val_precision_m: 0.9700 - val_recall_m: 0.9700\n",
      "Epoch 74/100\n",
      " - 48s - loss: 0.0540 - accuracy: 0.9830 - f1_m: 0.9825 - precision_m: 0.9830 - recall_m: 0.9820 - val_loss: 0.0013 - val_accuracy: 0.9900 - val_f1_m: 0.9900 - val_precision_m: 0.9900 - val_recall_m: 0.9900\n"
     ]
    },
    {
     "name": "stdout",
     "output_type": "stream",
     "text": [
      "Epoch 75/100\n",
      " - 47s - loss: 0.0785 - accuracy: 0.9760 - f1_m: 0.9763 - precision_m: 0.9789 - recall_m: 0.9740 - val_loss: 0.0306 - val_accuracy: 0.9800 - val_f1_m: 0.9847 - val_precision_m: 0.9900 - val_recall_m: 0.9800\n",
      "Epoch 76/100\n",
      " - 48s - loss: 0.0464 - accuracy: 0.9850 - f1_m: 0.9849 - precision_m: 0.9860 - recall_m: 0.9840 - val_loss: 1.3626e-04 - val_accuracy: 0.9900 - val_f1_m: 0.9900 - val_precision_m: 0.9900 - val_recall_m: 0.9900\n",
      "Epoch 77/100\n",
      " - 47s - loss: 0.0920 - accuracy: 0.9730 - f1_m: 0.9746 - precision_m: 0.9787 - recall_m: 0.9710 - val_loss: 0.0130 - val_accuracy: 1.0000 - val_f1_m: 1.0000 - val_precision_m: 1.0000 - val_recall_m: 1.0000\n",
      "Epoch 78/100\n",
      " - 48s - loss: 0.0460 - accuracy: 0.9870 - f1_m: 0.9879 - precision_m: 0.9890 - recall_m: 0.9870 - val_loss: 2.3962e-04 - val_accuracy: 0.9700 - val_f1_m: 0.9795 - val_precision_m: 0.9900 - val_recall_m: 0.9700\n",
      "Epoch 79/100\n",
      " - 47s - loss: 0.0323 - accuracy: 0.9890 - f1_m: 0.9895 - precision_m: 0.9900 - recall_m: 0.9890 - val_loss: 0.0826 - val_accuracy: 0.9800 - val_f1_m: 0.9747 - val_precision_m: 0.9800 - val_recall_m: 0.9700\n",
      "Epoch 80/100\n",
      " - 47s - loss: 0.0781 - accuracy: 0.9770 - f1_m: 0.9775 - precision_m: 0.9780 - recall_m: 0.9770 - val_loss: 0.1031 - val_accuracy: 0.9500 - val_f1_m: 0.9547 - val_precision_m: 0.9600 - val_recall_m: 0.9500\n",
      "Epoch 81/100\n",
      " - 48s - loss: 0.0604 - accuracy: 0.9790 - f1_m: 0.9778 - precision_m: 0.9798 - recall_m: 0.9760 - val_loss: 0.0089 - val_accuracy: 0.9800 - val_f1_m: 0.9747 - val_precision_m: 0.9800 - val_recall_m: 0.9700\n",
      "Epoch 82/100\n",
      " - 47s - loss: 0.0634 - accuracy: 0.9850 - f1_m: 0.9854 - precision_m: 0.9869 - recall_m: 0.9840 - val_loss: 7.0046e-04 - val_accuracy: 0.9900 - val_f1_m: 0.9900 - val_precision_m: 0.9900 - val_recall_m: 0.9900\n",
      "Epoch 83/100\n",
      " - 47s - loss: 0.0461 - accuracy: 0.9840 - f1_m: 0.9829 - precision_m: 0.9840 - recall_m: 0.9820 - val_loss: 2.0428 - val_accuracy: 0.9400 - val_f1_m: 0.9356 - val_precision_m: 0.9539 - val_recall_m: 0.9200\n",
      "Epoch 84/100\n",
      " - 47s - loss: 0.0693 - accuracy: 0.9840 - f1_m: 0.9849 - precision_m: 0.9860 - recall_m: 0.9840 - val_loss: 9.4332e-04 - val_accuracy: 1.0000 - val_f1_m: 1.0000 - val_precision_m: 1.0000 - val_recall_m: 1.0000\n",
      "Epoch 85/100\n",
      " - 48s - loss: 0.0498 - accuracy: 0.9820 - f1_m: 0.9819 - precision_m: 0.9830 - recall_m: 0.9810 - val_loss: 0.2109 - val_accuracy: 0.9600 - val_f1_m: 0.9695 - val_precision_m: 0.9800 - val_recall_m: 0.9600\n",
      "Epoch 86/100\n",
      " - 48s - loss: 0.0501 - accuracy: 0.9840 - f1_m: 0.9844 - precision_m: 0.9859 - recall_m: 0.9830 - val_loss: 7.4538e-05 - val_accuracy: 0.9900 - val_f1_m: 0.9847 - val_precision_m: 0.9900 - val_recall_m: 0.9800\n",
      "Epoch 87/100\n",
      " - 48s - loss: 0.0609 - accuracy: 0.9810 - f1_m: 0.9814 - precision_m: 0.9829 - recall_m: 0.9800 - val_loss: 0.0236 - val_accuracy: 0.9900 - val_f1_m: 0.9900 - val_precision_m: 0.9900 - val_recall_m: 0.9900\n",
      "Epoch 88/100\n",
      " - 48s - loss: 0.0594 - accuracy: 0.9850 - f1_m: 0.9849 - precision_m: 0.9870 - recall_m: 0.9830 - val_loss: 0.0318 - val_accuracy: 0.9800 - val_f1_m: 0.9800 - val_precision_m: 0.9800 - val_recall_m: 0.9800\n",
      "Epoch 89/100\n",
      " - 47s - loss: 0.0509 - accuracy: 0.9870 - f1_m: 0.9869 - precision_m: 0.9880 - recall_m: 0.9860 - val_loss: 0.0275 - val_accuracy: 1.0000 - val_f1_m: 1.0000 - val_precision_m: 1.0000 - val_recall_m: 1.0000\n",
      "Epoch 90/100\n",
      " - 47s - loss: 0.0567 - accuracy: 0.9830 - f1_m: 0.9839 - precision_m: 0.9860 - recall_m: 0.9820 - val_loss: 0.4966 - val_accuracy: 0.9900 - val_f1_m: 0.9900 - val_precision_m: 0.9900 - val_recall_m: 0.9900\n",
      "Epoch 91/100\n",
      " - 47s - loss: 0.0290 - accuracy: 0.9900 - f1_m: 0.9900 - precision_m: 0.9900 - recall_m: 0.9900 - val_loss: 0.0837 - val_accuracy: 0.9900 - val_f1_m: 0.9900 - val_precision_m: 0.9900 - val_recall_m: 0.9900\n",
      "Epoch 92/100\n",
      " - 48s - loss: 0.0656 - accuracy: 0.9840 - f1_m: 0.9838 - precision_m: 0.9870 - recall_m: 0.9810 - val_loss: 0.0114 - val_accuracy: 0.9900 - val_f1_m: 0.9900 - val_precision_m: 0.9900 - val_recall_m: 0.9900\n",
      "Epoch 93/100\n",
      " - 48s - loss: 0.0591 - accuracy: 0.9820 - f1_m: 0.9828 - precision_m: 0.9860 - recall_m: 0.9800 - val_loss: 0.2831 - val_accuracy: 0.9800 - val_f1_m: 0.9800 - val_precision_m: 0.9800 - val_recall_m: 0.9800\n",
      "Epoch 94/100\n",
      " - 47s - loss: 0.0187 - accuracy: 0.9940 - f1_m: 0.9945 - precision_m: 0.9950 - recall_m: 0.9940 - val_loss: 0.6032 - val_accuracy: 0.9300 - val_f1_m: 0.9300 - val_precision_m: 0.9300 - val_recall_m: 0.9300\n",
      "Epoch 95/100\n",
      " - 47s - loss: 0.0626 - accuracy: 0.9800 - f1_m: 0.9805 - precision_m: 0.9810 - recall_m: 0.9800 - val_loss: 0.0021 - val_accuracy: 1.0000 - val_f1_m: 1.0000 - val_precision_m: 1.0000 - val_recall_m: 1.0000\n",
      "Epoch 96/100\n",
      " - 48s - loss: 0.0625 - accuracy: 0.9820 - f1_m: 0.9823 - precision_m: 0.9849 - recall_m: 0.9800 - val_loss: 0.0272 - val_accuracy: 0.9900 - val_f1_m: 0.9900 - val_precision_m: 0.9900 - val_recall_m: 0.9900\n",
      "Epoch 97/100\n",
      " - 48s - loss: 0.0631 - accuracy: 0.9820 - f1_m: 0.9807 - precision_m: 0.9838 - recall_m: 0.9780 - val_loss: 1.1009e-04 - val_accuracy: 0.9600 - val_f1_m: 0.9600 - val_precision_m: 0.9600 - val_recall_m: 0.9600\n",
      "Epoch 98/100\n",
      " - 47s - loss: 0.0709 - accuracy: 0.9770 - f1_m: 0.9779 - precision_m: 0.9800 - recall_m: 0.9760 - val_loss: 0.0381 - val_accuracy: 0.9500 - val_f1_m: 0.9500 - val_precision_m: 0.9500 - val_recall_m: 0.9500\n",
      "Epoch 99/100\n",
      " - 48s - loss: 0.0831 - accuracy: 0.9740 - f1_m: 0.9752 - precision_m: 0.9788 - recall_m: 0.9720 - val_loss: 0.0483 - val_accuracy: 0.9600 - val_f1_m: 0.9600 - val_precision_m: 0.9600 - val_recall_m: 0.9600\n",
      "Epoch 100/100\n",
      " - 48s - loss: 0.1001 - accuracy: 0.9750 - f1_m: 0.9762 - precision_m: 0.9809 - recall_m: 0.9720 - val_loss: 0.0067 - val_accuracy: 1.0000 - val_f1_m: 1.0000 - val_precision_m: 1.0000 - val_recall_m: 1.0000\n"
     ]
    },
    {
     "data": {
      "text/plain": [
       "<keras.callbacks.callbacks.History at 0x7fec6c0aa6a0>"
      ]
     },
     "execution_count": 41,
     "metadata": {},
     "output_type": "execute_result"
    }
   ],
   "source": [
    "model.fit_generator(train_batches, steps_per_epoch=100, validation_data=valid_batches, validation_steps=10, epochs=100, verbose=2)"
   ]
  },
  {
   "cell_type": "code",
   "execution_count": 42,
   "metadata": {},
   "outputs": [],
   "source": [
    "model.save('A-to-Y-model.h5')"
   ]
  },
  {
   "cell_type": "markdown",
   "metadata": {},
   "source": [
    "## Predict Sign language digits"
   ]
  },
  {
   "cell_type": "code",
   "execution_count": 19,
   "metadata": {},
   "outputs": [
    {
     "name": "stdout",
     "output_type": "stream",
     "text": [
      "WARNING:tensorflow:From /home/dhanashree/MyFolder/Dev/video_classification/lib/python3.5/site-packages/tensorflow/python/ops/resource_variable_ops.py:435: colocate_with (from tensorflow.python.framework.ops) is deprecated and will be removed in a future version.\n",
      "Instructions for updating:\n",
      "Colocations handled automatically by placer.\n"
     ]
    }
   ],
   "source": [
    "from keras.models import load_model\n",
    "from tensorflow.python.keras.backend import set_session\n",
    "\n",
    "config = tf.compat.v1.ConfigProto()\n",
    "sess = tf.compat.v1.Session(config=config)\n",
    "vgg16_model = keras.applications.vgg16.VGG16()\n",
    "vgg16_model.layers.pop()\n",
    "# vgg16_model.outputs = [vgg16_model.layers[-6].output]\n",
    "vgg16_model.layers[-1].outbound_nodes = []\n",
    "model = Sequential()\n",
    "for layer in vgg16_model.layers:\n",
    "    model.add(layer)\n",
    "for layer in model.layers[:-18]:\n",
    "    layer.trainable = False\n",
    "model.add(Dense(26, activation='softmax'))\n",
    "set_session(sess)\n",
    "model.load_weights('/home/dhanashree/MyFolder/Dev/atoz/digits_training/A-to-Y-model.h5')"
   ]
  },
  {
   "cell_type": "code",
   "execution_count": 20,
   "metadata": {},
   "outputs": [],
   "source": [
    "# scores = model.evaluate(X, Y, verbose=0)\n",
    "# print(\"%s: %.2f%%\" % (model.metrics_names[1], scores[1]*100))"
   ]
  },
  {
   "cell_type": "code",
   "execution_count": 21,
   "metadata": {},
   "outputs": [],
   "source": [
    "test_labels = test_batches.classes"
   ]
  },
  {
   "cell_type": "code",
   "execution_count": 22,
   "metadata": {},
   "outputs": [
    {
     "data": {
      "text/plain": [
       "array([ 0,  0,  0, ..., 25, 25, 25], dtype=int32)"
      ]
     },
     "execution_count": 22,
     "metadata": {},
     "output_type": "execute_result"
    }
   ],
   "source": [
    "test_labels"
   ]
  },
  {
   "cell_type": "code",
   "execution_count": 23,
   "metadata": {},
   "outputs": [
    {
     "data": {
      "text/plain": [
       "{'A': 0,\n",
       " 'B': 1,\n",
       " 'C': 2,\n",
       " 'D': 3,\n",
       " 'E': 4,\n",
       " 'F': 5,\n",
       " 'G': 6,\n",
       " 'H': 7,\n",
       " 'I': 8,\n",
       " 'K': 9,\n",
       " 'L': 10,\n",
       " 'M': 11,\n",
       " 'N': 12,\n",
       " 'O': 13,\n",
       " 'P': 14,\n",
       " 'Q': 15,\n",
       " 'R': 16,\n",
       " 'S': 17,\n",
       " 'T': 18,\n",
       " 'U': 19,\n",
       " 'V': 20,\n",
       " 'W': 21,\n",
       " 'X': 22,\n",
       " 'Y': 23,\n",
       " 'del': 24,\n",
       " 'space': 25}"
      ]
     },
     "execution_count": 23,
     "metadata": {},
     "output_type": "execute_result"
    }
   ],
   "source": [
    "test_batches.class_indices"
   ]
  },
  {
   "cell_type": "code",
   "execution_count": 24,
   "metadata": {},
   "outputs": [],
   "source": [
    "predictions = model.predict_generator(test_batches, steps=780, verbose=0)"
   ]
  },
  {
   "cell_type": "code",
   "execution_count": 25,
   "metadata": {},
   "outputs": [],
   "source": [
    "pre=predictions.argmax(axis=1)"
   ]
  },
  {
   "cell_type": "code",
   "execution_count": 26,
   "metadata": {},
   "outputs": [
    {
     "data": {
      "text/plain": [
       "array([ 0,  0,  0, ..., 25, 25, 25])"
      ]
     },
     "execution_count": 26,
     "metadata": {},
     "output_type": "execute_result"
    }
   ],
   "source": [
    "pre"
   ]
  },
  {
   "cell_type": "markdown",
   "metadata": {},
   "source": [
    "## Visualize"
   ]
  },
  {
   "cell_type": "code",
   "execution_count": null,
   "metadata": {},
   "outputs": [],
   "source": []
  },
  {
   "cell_type": "code",
   "execution_count": 34,
   "metadata": {},
   "outputs": [],
   "source": [
    "def plot_confusion_matrix(cm, classes, normalize=False, title='Confusion matrix', cmap=plt.cm.Blues):\n",
    "    \"\"\"\n",
    "    This function prints and plot confusion matrix\n",
    "    Normalization can be applied by setting 'normalize=True'\n",
    "    \"\"\"\n",
    "    figure = plt.figure(figsize=(10, 10))\n",
    "    plt.imshow(cm, interpolation='nearest', cmap=cmap)\n",
    "    plt.title(title)\n",
    "    plt.colorbar()\n",
    "    tick_marks=np.arange(len(classes))\n",
    "    plt.xticks(tick_marks, classes, rotation=45)\n",
    "    plt.yticks(tick_marks, classes)\n",
    "    \n",
    "    if normalize:\n",
    "        cm = cm.astype('float') / cm.sum(axis=1)[:, np.newaxis]\n",
    "        print(\"Normalized confusion matrix\")\n",
    "    else:\n",
    "        print('Confusion matrix, without normalization')\n",
    "        \n",
    "    print(cm)\n",
    "    \n",
    "    thresh = cm.max() / 2\n",
    "    for i,j in itertools.product(range(cm.shape[0]), range(cm.shape[1])):\n",
    "        plt.text(j, i, cm[i, j], horizontalalignment=\"center\", color=\"white\" if cm[i, j] > thresh else \"black\")\n",
    "        \n",
    "    plt.tight_layout()\n",
    "    plt.ylabel('True label')\n",
    "    plt.xlabel('Predicted label')"
   ]
  },
  {
   "cell_type": "code",
   "execution_count": 35,
   "metadata": {
    "scrolled": true
   },
   "outputs": [],
   "source": [
    "cm = confusion_matrix(test_labels, pre,labels=[0,1,2,3,4,5,6,7,8,9,10,11,12,13,14,15,16,17,18,19,20,21,22,23,24,25])"
   ]
  },
  {
   "cell_type": "code",
   "execution_count": 36,
   "metadata": {},
   "outputs": [
    {
     "name": "stdout",
     "output_type": "stream",
     "text": [
      "Confusion matrix, without normalization\n",
      "[[300   0   0   0   0   0   0   0   0   0   0   0   0   0   0   0   0   0\n",
      "    0   0   0   0   0   0   0   0]\n",
      " [  3 283   0   1   0   0   0   0   6   0   0   0   0   0   0   0   0   0\n",
      "    0   7   0   0   0   0   0   0]\n",
      " [  0   0 300   0   0   0   0   0   0   0   0   0   0   0   0   0   0   0\n",
      "    0   0   0   0   0   0   0   0]\n",
      " [  0   0   0 300   0   0   0   0   0   0   0   0   0   0   0   0   0   0\n",
      "    0   0   0   0   0   0   0   0]\n",
      " [  7   0   0   0 290   0   0   0   1   0   0   0   0   0   0   0   0   2\n",
      "    0   0   0   0   0   0   0   0]\n",
      " [  0   0   0   0   0 300   0   0   0   0   0   0   0   0   0   0   0   0\n",
      "    0   0   0   0   0   0   0   0]\n",
      " [  0   0   0   0   0   0 299   1   0   0   0   0   0   0   0   0   0   0\n",
      "    0   0   0   0   0   0   0   0]\n",
      " [  0   0   0   0   0   2   1 294   0   0   0   0   0   0   0   3   0   0\n",
      "    0   0   0   0   0   0   0   0]\n",
      " [  0   0   0   8   0   0   0   0 292   0   0   0   0   0   0   0   0   0\n",
      "    0   0   0   0   0   0   0   0]\n",
      " [  0   0   0   0   0   0   0   0   0 298   0   0   0   0   0   0   0   0\n",
      "    0   0   2   0   0   0   0   0]\n",
      " [  0   0   0   0   0   0   0   0   0   0 300   0   0   0   0   0   0   0\n",
      "    0   0   0   0   0   0   0   0]\n",
      " [  0   0   0   0   0   0   0   0   0   0   2 296   2   0   0   0   0   0\n",
      "    0   0   0   0   0   0   0   0]\n",
      " [  0   0   0   0   0   0   1   0   0   0   0   0 299   0   0   0   0   0\n",
      "    0   0   0   0   0   0   0   0]\n",
      " [  0   0   0   0   0   0   0   0   0   0   0   0   0 297   0   0   0   0\n",
      "    3   0   0   0   0   0   0   0]\n",
      " [  0   0   0   0   0   0   2   2   0   0   0   0   0   0 292   4   0   0\n",
      "    0   0   0   0   0   0   0   0]\n",
      " [  0   0   0   0   0   0   0   0   0   0   0   0   1   0   1 298   0   0\n",
      "    0   0   0   0   0   0   0   0]\n",
      " [  0   0   0   0   0   0   0   0   0   0   0   0   0   0   0   0 299   0\n",
      "    0   0   1   0   0   0   0   0]\n",
      " [  0   0   0   0   0   0   0   0   0   0   0   0   0   0   0   0   0 298\n",
      "    2   0   0   0   0   0   0   0]\n",
      " [  0   0   0   0   0   0   0   0   0   0   0   0   0   0   0   0   0   0\n",
      "  300   0   0   0   0   0   0   0]\n",
      " [  0   0   0   0   0   0   0   0   0   0   0   0   0   0   0   0   1   0\n",
      "    0 297   2   0   0   0   0   0]\n",
      " [  0   0   0   0   0   0   0   0   0   1   0   0   0   0   0   0   0   0\n",
      "    0   0 297   2   0   0   0   0]\n",
      " [  0   0   0   0   0   0   0   0   0   0   0   0   0   0   0   0   0   0\n",
      "    0   0   7 293   0   0   0   0]\n",
      " [  0   0   0   0   0   0   0   0   0   0   4   0   0   0   0   0   0   4\n",
      "    0   2   0   0 289   0   0   1]\n",
      " [  0   0   0   0   0   0   0   0   0   0   0   0   0   0   0   1   0   0\n",
      "    0   0   0   0   0 299   0   0]\n",
      " [  0   0   0   0   0   0   0   0   0   0   0   2   0   0   0   2   0   3\n",
      "    0   0   0   0   0   0 293   0]\n",
      " [  0   0   0   0   0   0   0   0   0   0   0   0   0   0   0   0   0   0\n",
      "    0   0   0   0   0   0   0 300]]\n"
     ]
    },
    {
     "data": {
      "image/png": "[encoded data removed]",
      "text/plain": [
       "<Figure size 720x720 with 2 Axes>"
      ]
     },
     "metadata": {
      "needs_background": "light"
     },
     "output_type": "display_data"
    }
   ],
   "source": [
    "lbls=['A', 'B', 'C', 'D', 'E', 'F', 'G', 'H', 'I', 'K', 'L', 'M', 'N', 'O', 'P', 'Q', 'R', 'S', 'T', 'U', 'V', 'W', 'X', 'Y', 'del', 'space']\n",
    "plot_confusion_matrix(cm,lbls,title='Confusion matrix')"
   ]
  },
  {
   "cell_type": "code",
   "execution_count": 62,
   "metadata": {},
   "outputs": [
    {
     "name": "stdout",
     "output_type": "stream",
     "text": [
      "780/780 [==============================] - 119s 153ms/step\n"
     ]
    },
    {
     "data": {
      "text/plain": [
       "[0.0004808644880540669,\n",
       " 0.9875640869140625,\n",
       " 0.9875133037567139,\n",
       " 0.9890849590301514,\n",
       " 0.9861540198326111]"
      ]
     },
     "execution_count": 62,
     "metadata": {},
     "output_type": "execute_result"
    }
   ],
   "source": [
    "model.evaluate(test_batches)"
   ]
  },
  {
   "cell_type": "code",
   "execution_count": 63,
   "metadata": {},
   "outputs": [
    {
     "data": {
      "image/png": "[encoded data removed]",
      "text/plain": [
       "<Figure size 432x288 with 2 Axes>"
      ]
     },
     "metadata": {
      "needs_background": "light"
     },
     "output_type": "display_data"
    }
   ],
   "source": [
    "plt.imshow(cm, cmap=plt.cm.Blues)\n",
    "plt.xlabel(\"Predicted labels\")\n",
    "plt.ylabel(\"True labels\")\n",
    "plt.xticks([], [])\n",
    "plt.yticks([], [])\n",
    "plt.title('Confusion matrix ')\n",
    "plt.colorbar()\n",
    "plt.show()"
   ]
  },
  {
   "cell_type": "code",
   "execution_count": 30,
   "metadata": {},
   "outputs": [
    {
     "data": {
      "image/png": "[encoded data removed]",
      "text/plain": [
       "<Figure size 576x576 with 2 Axes>"
      ]
     },
     "metadata": {
      "needs_background": "light"
     },
     "output_type": "display_data"
    }
   ],
   "source": [
    "figure = plt.figure(figsize=(8, 8))\n",
    "plt.imshow(cm, cmap=plt.cm.Blues)\n",
    "plt.xlabel(\"Predicted labels\")\n",
    "plt.ylabel(\"True labels\")\n",
    "plt.xticks([], [])\n",
    "plt.yticks([], [])\n",
    "plt.title('Confusion matrix ')\n",
    "plt.colorbar()\n",
    "plt.show()"
   ]
  },
  {
   "cell_type": "code",
   "execution_count": null,
   "metadata": {},
   "outputs": [],
   "source": []
  }
 ],
 "metadata": {
  "kernelspec": {
   "display_name": "video_classification",
   "language": "python",
   "name": "video_classification"
  },
  "language_info": {
   "codemirror_mode": {
    "name": "ipython",
    "version": 3
   },
   "file_extension": ".py",
   "mimetype": "text/x-python",
   "name": "python",
   "nbconvert_exporter": "python",
   "pygments_lexer": "ipython3",
   "version": "3.5.2"
  }
 },
 "nbformat": 4,
 "nbformat_minor": 4
}
